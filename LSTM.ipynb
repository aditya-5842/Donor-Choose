{
 "cells": [
  {
   "cell_type": "markdown",
   "metadata": {
    "colab_type": "text",
    "id": "XifUtj0yMFGM"
   },
   "source": [
    "**Mounting the drive.**"
   ]
  },
  {
   "cell_type": "code",
   "execution_count": 1,
   "metadata": {
    "colab": {
     "base_uri": "https://localhost:8080/",
     "height": 122
    },
    "colab_type": "code",
    "id": "CrvzuGnFhL6D",
    "outputId": "4a8a3222-bd1c-4697-9c8e-8b7856e6770f"
   },
   "outputs": [
    {
     "name": "stdout",
     "output_type": "stream",
     "text": [
      "Go to this URL in a browser: https://accounts.google.com/o/oauth2/auth?client_id=947318989803-6bn6qk8qdgf4n4g3pfee6491hc0brc4i.apps.googleusercontent.com&redirect_uri=urn%3Aietf%3Awg%3Aoauth%3A2.0%3Aoob&scope=email%20https%3A%2F%2Fwww.googleapis.com%2Fauth%2Fdocs.test%20https%3A%2F%2Fwww.googleapis.com%2Fauth%2Fdrive%20https%3A%2F%2Fwww.googleapis.com%2Fauth%2Fdrive.photos.readonly%20https%3A%2F%2Fwww.googleapis.com%2Fauth%2Fpeopleapi.readonly&response_type=code\n",
      "\n",
      "Enter your authorization code:\n",
      "··········\n",
      "Mounted at /content/drive\n"
     ]
    }
   ],
   "source": [
    "from google.colab import drive\n",
    "drive.mount('/content/drive')"
   ]
  },
  {
   "cell_type": "markdown",
   "metadata": {
    "colab_type": "text",
    "id": "2_U0xWWOMLSO"
   },
   "source": [
    "**Downloading the pre-processed data**\n",
    "  * [Link](https://drive.google.com/file/d/1GU3LIJJ3zS1xLXXe-sdItSJHtI5txjVO/view?usp=sharing) to download the pre-processed data.\n",
    "  * Added this data to drive and used it.\n",
    "  \n",
    "**Downloading the GloVe data**\n",
    " * This [site](https://nlp.stanford.edu/projects/glove/) was used to get GloVe data.\n",
    " * Common Crawl (42B tokens, 1.9M vocab, uncased, 300d vectors, 1.75 GB download): [glove.42B.300d.zip](http://nlp.stanford.edu/data/glove.42B.300d.zip)"
   ]
  },
  {
   "cell_type": "code",
   "execution_count": 2,
   "metadata": {
    "colab": {
     "base_uri": "https://localhost:8080/",
     "height": 51
    },
    "colab_type": "code",
    "id": "aaiwVv3HNuZ5",
    "outputId": "0c3f2204-fb96-49e9-ad5f-12ca6d762a89"
   },
   "outputs": [
    {
     "name": "stdout",
     "output_type": "stream",
     "text": [
      "Archive:  /content/drive/My Drive/Colab Notebooks/Dataset/Google_Word2Vec/glove.42B.300d.zip\n",
      "  inflating: glove.42B.300d.txt      \n"
     ]
    }
   ],
   "source": [
    "import os\n",
    "d = \"/content/drive/My Drive/Colab Notebooks/Dataset/Google_Word2Vec/\"\n",
    "if not os.path.isfile(d+\"glove.42B.300d.zip\"):\n",
    "    # https://stackoverflow.com/a/31667928/12005970\n",
    "    !wget \"http://nlp.stanford.edu/data/glove.42B.300d.zip\" -O \"/content/drive/My Drive/Colab Notebooks/Dataset/Google_Word2Vec/glove.42B.300d.zip\"\n",
    "    !unzip \"/content/drive/My Drive/Colab Notebooks/Dataset/Google_Word2Vec/glove.42B.300d.zip\"\n",
    "else:\n",
    "    !unzip \"/content/drive/My Drive/Colab Notebooks/Dataset/Google_Word2Vec/glove.42B.300d.zip\""
   ]
  },
  {
   "cell_type": "markdown",
   "metadata": {
    "colab_type": "text",
    "id": "PH59Km8QOuFJ"
   },
   "source": [
    "**Importing libararies**"
   ]
  },
  {
   "cell_type": "code",
   "execution_count": 3,
   "metadata": {
    "colab": {
     "base_uri": "https://localhost:8080/",
     "height": 34
    },
    "colab_type": "code",
    "id": "ZfWpXQlwMe-V",
    "outputId": "69e6e7a1-312c-4784-c65d-5999bce6e8bf"
   },
   "outputs": [
    {
     "name": "stderr",
     "output_type": "stream",
     "text": [
      "Using TensorFlow backend.\n"
     ]
    }
   ],
   "source": [
    "import numpy as np\n",
    "import pandas as pd\n",
    "import scipy\n",
    "import seaborn as sns\n",
    "import matplotlib.pyplot as plt\n",
    "\n",
    "from time import time\n",
    "from collections import Counter\n",
    "from tqdm import tqdm\n",
    "# https://stackoverflow.com/a/879249/12005970\n",
    "import warnings\n",
    "warnings.filterwarnings(\"ignore\")\n",
    "from prettytable import PrettyTable\n",
    "\n",
    "from sklearn.model_selection import train_test_split\n",
    "from sklearn.metrics import roc_curve, roc_auc_score\n",
    "from sklearn.feature_extraction.text import TfidfVectorizer\n",
    "from sklearn.preprocessing import StandardScaler\n",
    "\n",
    "import tensorflow as tf \n",
    "import keras\n",
    "from keras.layers import Input, Conv1D, Dense, Activation, LSTM, BatchNormalization, Dropout, concatenate, Embedding, Flatten\n",
    "from keras.preprocessing.sequence import pad_sequences\n",
    "from keras.preprocessing.text import Tokenizer\n",
    "from keras.models import Model, load_model\n",
    "from keras.callbacks import EarlyStopping, ModelCheckpoint, TensorBoard\n",
    "from keras.utils.vis_utils import plot_model"
   ]
  },
  {
   "cell_type": "markdown",
   "metadata": {
    "colab_type": "text",
    "id": "B6NsqwohO66b"
   },
   "source": [
    "**Reading and Splitting the data**\n",
    "* Splitting the data into train(80%), CV (10%) and test (10%) dataset."
   ]
  },
  {
   "cell_type": "code",
   "execution_count": 4,
   "metadata": {
    "colab": {
     "base_uri": "https://localhost:8080/",
     "height": 301
    },
    "colab_type": "code",
    "id": "niCOFJmIO6Fa",
    "outputId": "7d04cd4e-f984-4954-a526-200183337a1c"
   },
   "outputs": [
    {
     "name": "stdout",
     "output_type": "stream",
     "text": [
      "(109248, 9)\n"
     ]
    },
    {
     "data": {
      "text/html": [
       "<div>\n",
       "<style scoped>\n",
       "    .dataframe tbody tr th:only-of-type {\n",
       "        vertical-align: middle;\n",
       "    }\n",
       "\n",
       "    .dataframe tbody tr th {\n",
       "        vertical-align: top;\n",
       "    }\n",
       "\n",
       "    .dataframe thead th {\n",
       "        text-align: right;\n",
       "    }\n",
       "</style>\n",
       "<table border=\"1\" class=\"dataframe\">\n",
       "  <thead>\n",
       "    <tr style=\"text-align: right;\">\n",
       "      <th></th>\n",
       "      <th>school_state</th>\n",
       "      <th>teacher_prefix</th>\n",
       "      <th>project_grade_category</th>\n",
       "      <th>teacher_number_of_previously_posted_projects</th>\n",
       "      <th>project_is_approved</th>\n",
       "      <th>clean_categories</th>\n",
       "      <th>clean_subcategories</th>\n",
       "      <th>essay</th>\n",
       "      <th>price</th>\n",
       "    </tr>\n",
       "  </thead>\n",
       "  <tbody>\n",
       "    <tr>\n",
       "      <th>0</th>\n",
       "      <td>ca</td>\n",
       "      <td>mrs</td>\n",
       "      <td>grades_prek_2</td>\n",
       "      <td>53</td>\n",
       "      <td>1</td>\n",
       "      <td>math_science</td>\n",
       "      <td>appliedsciences health_lifescience</td>\n",
       "      <td>i fortunate enough use fairy tale stem kits cl...</td>\n",
       "      <td>725.05</td>\n",
       "    </tr>\n",
       "    <tr>\n",
       "      <th>1</th>\n",
       "      <td>ut</td>\n",
       "      <td>ms</td>\n",
       "      <td>grades_3_5</td>\n",
       "      <td>4</td>\n",
       "      <td>1</td>\n",
       "      <td>specialneeds</td>\n",
       "      <td>specialneeds</td>\n",
       "      <td>imagine 8 9 years old you third grade classroo...</td>\n",
       "      <td>213.03</td>\n",
       "    </tr>\n",
       "  </tbody>\n",
       "</table>\n",
       "</div>"
      ],
      "text/plain": [
       "  school_state  ...   price\n",
       "0           ca  ...  725.05\n",
       "1           ut  ...  213.03\n",
       "\n",
       "[2 rows x 9 columns]"
      ]
     },
     "execution_count": 4,
     "metadata": {
      "tags": []
     },
     "output_type": "execute_result"
    }
   ],
   "source": [
    "df = pd.read_csv(d+\"Donor-Choose/preprocessed_data.csv\")\n",
    "print(df.shape)\n",
    "df.head(2)"
   ]
  },
  {
   "cell_type": "code",
   "execution_count": 5,
   "metadata": {
    "colab": {
     "base_uri": "https://localhost:8080/",
     "height": 85
    },
    "colab_type": "code",
    "id": "6K14iJKuRnm2",
    "outputId": "d582c485-3dec-461b-ef6b-3790b4413f23"
   },
   "outputs": [
    {
     "name": "stdout",
     "output_type": "stream",
     "text": [
      "Total datapoints in data: 109,248\n",
      "Datapoints in train data: 87,398\n",
      "Datapoints in CV data: 10,925\n",
      "Datapoints in test data: 10,925\n"
     ]
    }
   ],
   "source": [
    "X = df[[col for col in df.columns if col != 'project_is_approved']]\n",
    "Y = df['project_is_approved']\n",
    "\n",
    "x_train, x_test, y_train, y_test = train_test_split(X, Y, test_size = 0.1, random_state = 42, stratify = Y)\n",
    "x_train, x_cv, y_train, y_cv = train_test_split(x_train, y_train, test_size = 1/9, random_state = 42, stratify = y_train)\n",
    "print('Total datapoints in data: {:,}\\nDatapoints in train data: {:,}\\nDatapoints in CV data: {:,}\\nDatapoints in test data: {:,}'\n",
    "     .format(df.shape[0], x_train.shape[0], x_cv.shape[0], x_test.shape[0]))\n",
    "y_train, y_cv, y_test = y_train.values, y_cv.values, y_test.values"
   ]
  },
  {
   "cell_type": "markdown",
   "metadata": {
    "colab_type": "text",
    "id": "sJ6b0bCeWjcM"
   },
   "source": [
    "# 1. Model 1"
   ]
  },
  {
   "cell_type": "markdown",
   "metadata": {
    "colab_type": "text",
    "id": "L_I_q_5mWRcA"
   },
   "source": [
    "## 1.1 Pre-processing"
   ]
  },
  {
   "cell_type": "markdown",
   "metadata": {
    "colab_type": "text",
    "id": "EqtJNZvoWrxp"
   },
   "source": [
    "### 1.1.1 Categrical Data"
   ]
  },
  {
   "cell_type": "markdown",
   "metadata": {
    "colab_type": "text",
    "id": "lTa81zhWWwTK"
   },
   "source": [
    "* `school_state`, `teacher_prefix` and `project_grade_category` features can gave only one category.\n",
    "* After sorting (desceding order) the words based on frequency of each word, index each word. (Note: Indexing starts from 1).\n",
    "* Other categorical features can more than 1 category in some datapoints, so datapoints can have different lenght, so we'll use padding (pre/post) to make them of same lenght.\n",
    "\n",
    "**NOTE**: if word is not training data it'll be ignored"
   ]
  },
  {
   "cell_type": "code",
   "execution_count": 0,
   "metadata": {
    "colab": {},
    "colab_type": "code",
    "id": "9dNDqGmETbn8"
   },
   "outputs": [],
   "source": [
    "def return_dict(category):\n",
    "    \"\"\"Returns the dictionary with keys as words and values as index of word after sorting based on frequency of the word\n",
    "    , number of unique words and maximum lenght\"\"\"\n",
    "    \n",
    "    word_freq = Counter()\n",
    "    for state in x_train[category].values:\n",
    "        word_freq.update(state.split())\n",
    "    word_freq = dict(word_freq)\n",
    "    word_freq = pd.DataFrame(list(word_freq.items()), columns = ['Word', 'Frequency'])\n",
    "\n",
    "    # sorting by freqeuncy: https://pandas.pydata.org/pandas-docs/stable/reference/api/pandas.DataFrame.sort_values.html\n",
    "    word_freq = word_freq.sort_values(['Frequency'], axis = 0, ascending = False).reset_index(drop = True)\n",
    "    word_freq['Id'] = range(1, word_freq.shape[0]+1)\n",
    "    word_freq = word_freq[['Id', 'Word', 'Frequency']]\n",
    "\n",
    "    # getting the maximum length:\n",
    "    max_len = max([len(i.split(' ')) for i in x_train[category]])\n",
    "    #getting the number of unique words in corresponding feature\n",
    "    num_unique_word = word_freq.shape[0]\n",
    "\n",
    "    # gettting the dictionary to encode the categories\n",
    "    my_dict = dict(zip(word_freq['Word'].values, word_freq['Id'].values))\n",
    "       \n",
    "    return my_dict, num_unique_word, max_len\n",
    "  \n",
    "  \n",
    "def encode_category(category_col, my_dict):\n",
    "    \"\"\"retruns encoded category\"\"\"\n",
    "    lst = []\n",
    "    for row in category_col:\n",
    "        lst1 = []\n",
    "        for word in row.split(' '):\n",
    "            # if word is not training data it'll be ignored\n",
    "            try:\n",
    "                lst1.append(my_dict[word])\n",
    "            except:\n",
    "                continue\n",
    "        lst.append(lst1)   \n",
    "    return lst\n",
    "  \n",
    "\n",
    "def pad_category(category_col, my_dict, max_len, pad = 'post'):\n",
    "    \"\"\"returns padded category: default is post-padded\"\"\"\n",
    "    lst = encode_category(category_col, my_dict)\n",
    "    print('post padding to make each datapoit of same lenght = ', max_len)\n",
    "    #https://keras.io/preprocessing/sequence/#pad_sequences\n",
    "    lst = pad_sequences(lst, maxlen = max_len, padding = pad)\n",
    "    return lst\n",
    "\n",
    "\n",
    "\n",
    "def retrun_encoded_category(category_col, category):  \n",
    "    \"\"\"returns encoded category, each datapoint has same lenght for train, cv and test dataset.\n",
    "    it also retruns the number of unique words in train data\"\"\"\n",
    "    my_dict, num_unique_word, max_len = return_dict(category)\n",
    "    \n",
    "    lst1 = pad_category(x_train[category], my_dict, max_len)\n",
    "    lst2 = pad_category(x_cv[category], my_dict, max_len)\n",
    "    lst3 = pad_category(x_test[category], my_dict, max_len)\n",
    "   \n",
    "    print(\"Shape of train, cv and test {} features are: {}, {}, {}\"\n",
    "         .format(category, lst1.shape, lst2.shape, lst3.shape))\n",
    "    \n",
    "    return lst1, lst2, lst3, num_unique_word\n",
    "  \n",
    "#defining pretty table: http://zetcode.com/python/prettytable/\n",
    "\n",
    "table = PrettyTable()\n",
    "table.field_names = ['Model', \"Train Loss\", \"Train AUC\", \"Test Loss\", \"Test AUC\"]"
   ]
  },
  {
   "cell_type": "code",
   "execution_count": 56,
   "metadata": {
    "colab": {
     "base_uri": "https://localhost:8080/",
     "height": 510
    },
    "colab_type": "code",
    "id": "RymCoau6mSQZ",
    "outputId": "0641eae5-906a-4d2d-d0a2-f5b3661b1876"
   },
   "outputs": [
    {
     "name": "stdout",
     "output_type": "stream",
     "text": [
      "Encoding the 'school_state' feature\n",
      "post padding to make each datapoit of same lenght =  1\n",
      "post padding to make each datapoit of same lenght =  1\n",
      "post padding to make each datapoit of same lenght =  1\n",
      "Shape of train, cv and test school_state features are: (87398, 1), (10925, 1), (10925, 1)\n",
      "\n",
      "Encoding the 'teacher_prefix' feature\n",
      "post padding to make each datapoit of same lenght =  1\n",
      "post padding to make each datapoit of same lenght =  1\n",
      "post padding to make each datapoit of same lenght =  1\n",
      "Shape of train, cv and test teacher_prefix features are: (87398, 1), (10925, 1), (10925, 1)\n",
      "\n",
      "Encoding the 'project_grade_category' feature\n",
      "post padding to make each datapoit of same lenght =  1\n",
      "post padding to make each datapoit of same lenght =  1\n",
      "post padding to make each datapoit of same lenght =  1\n",
      "Shape of train, cv and test project_grade_category features are: (87398, 1), (10925, 1), (10925, 1)\n",
      "\n",
      "Encoding the 'clean_categories' feature\n",
      "post padding to make each datapoit of same lenght =  3\n",
      "post padding to make each datapoit of same lenght =  3\n",
      "post padding to make each datapoit of same lenght =  3\n",
      "Shape of train, cv and test clean_categories features are: (87398, 3), (10925, 3), (10925, 3)\n",
      "\n",
      "Encoding the 'clean_subcategories' feature\n",
      "post padding to make each datapoit of same lenght =  3\n",
      "post padding to make each datapoit of same lenght =  3\n",
      "post padding to make each datapoit of same lenght =  3\n",
      "Shape of train, cv and test clean_subcategories features are: (87398, 3), (10925, 3), (10925, 3)\n"
     ]
    }
   ],
   "source": [
    "print(\"Encoding the 'school_state' feature\")\n",
    "school_state_train, school_state_cv, school_state_test, len1 = retrun_encoded_category(x_train[\"school_state\"].values,\n",
    "                                                                              category = \"school_state\")\n",
    "\n",
    "print(\"\\nEncoding the 'teacher_prefix' feature\")\n",
    "teacher_prefix_train, teacher_prefix_cv, teacher_prefix_test, len2 = retrun_encoded_category(x_train[\"teacher_prefix\"].values,\n",
    "                                                                              category = \"teacher_prefix\")\n",
    "\n",
    "print(\"\\nEncoding the 'project_grade_category' feature\")\n",
    "project_grade_category_train, project_grade_category_cv, project_grade_category_test, len3 = retrun_encoded_category(x_train[\"project_grade_category\"].values,\n",
    "                                                                              category = \"project_grade_category\")\n",
    "\n",
    "print(\"\\nEncoding the 'clean_categories' feature\")\n",
    "clean_categories_train, clean_categories_cv, clean_categories_test, len4 = retrun_encoded_category(x_train[\"clean_categories\"].values,\n",
    "                                                                              category = \"clean_categories\")\n",
    "\n",
    "print(\"\\nEncoding the 'clean_subcategories' feature\")\n",
    "clean_subcategories_train, clean_subcategories_cv, clean_subcategories_test, len5 = retrun_encoded_category(x_train[\"clean_subcategories\"].values,\n",
    "                                                                              category = \"clean_subcategories\")"
   ]
  },
  {
   "cell_type": "markdown",
   "metadata": {
    "colab_type": "text",
    "id": "TsWYx_fHacCC"
   },
   "source": [
    "### 1.1.2 Text Data"
   ]
  },
  {
   "cell_type": "code",
   "execution_count": 57,
   "metadata": {
    "colab": {
     "base_uri": "https://localhost:8080/",
     "height": 34
    },
    "colab_type": "code",
    "id": "6I_S0_3dYD7k",
    "outputId": "43005625-ca59-4f46-dbfc-2f6f29e10ea2"
   },
   "outputs": [
    {
     "name": "stdout",
     "output_type": "stream",
     "text": [
      "Shape of train, cv and test essay features are: (87398, 400), (10925, 400), (10925, 400)\n"
     ]
    }
   ],
   "source": [
    "# pre-trained embedding: https://machinelearningmastery.com/use-word-embedding-layers-deep-learning-keras/\n",
    "tokens = Tokenizer()\n",
    "tokens.fit_on_texts(x_train[\"essay\"].values)\n",
    "\n",
    "# encoding text of essay features of train, cv and test data\n",
    "encoded_essay_train = tokens.texts_to_sequences(x_train[\"essay\"].values)\n",
    "encoded_essay_cv    = tokens.texts_to_sequences(x_cv[\"essay\"].values)\n",
    "encoded_essay_test  = tokens.texts_to_sequences(x_test[\"essay\"].values)\n",
    "\n",
    "# gettting the length of unique words in train data, and adding (+1) becasue of zeros padding and words are encoded from 1 to n \n",
    "vocab_size1 = len(tokens.word_index) + 1\n",
    "\n",
    "max_len_essay = 400 #max([len(i.split()) for i in x_train[\"essay\"].values])\n",
    "# padding the encoded data to make each datapoint of same dimension\n",
    "encoded_essay_train = pad_sequences(encoded_essay_train, maxlen = max_len_essay, padding = 'post', truncating = 'post')\n",
    "encoded_essay_cv    = pad_sequences(encoded_essay_cv, maxlen = max_len_essay, padding = 'post', truncating = 'post')\n",
    "encoded_essay_test  = pad_sequences(encoded_essay_test, maxlen = max_len_essay, padding = 'post', truncating = 'post')\n",
    "\n",
    "print(\"Shape of train, cv and test {} features are: {}, {}, {}\"\n",
    "         .format('essay', encoded_essay_train.shape, encoded_essay_cv.shape, encoded_essay_test.shape))"
   ]
  },
  {
   "cell_type": "code",
   "execution_count": 9,
   "metadata": {
    "colab": {
     "base_uri": "https://localhost:8080/",
     "height": 68
    },
    "colab_type": "code",
    "id": "1YvDuL9xYSMG",
    "outputId": "060bd046-83f8-415e-abc5-dc41fb0f3e8b"
   },
   "outputs": [
    {
     "name": "stderr",
     "output_type": "stream",
     "text": [
      "1917494it [03:21, 9500.52it/s]"
     ]
    },
    {
     "name": "stdout",
     "output_type": "stream",
     "text": [
      "\n",
      "GloVe is loaded. There are total 1917494 words\n"
     ]
    },
    {
     "name": "stderr",
     "output_type": "stream",
     "text": [
      "\n"
     ]
    }
   ],
   "source": [
    "def load_GloVe_vector(file_name):\n",
    "    \"\"\"retruns the vector representation of each word in dictionary format,\n",
    "    words are as keys and vector representions are as values of keys\"\"\"\n",
    "    with open(file_name, 'r') as f:\n",
    "        glove_dict = dict()\n",
    "        for line in tqdm(f):\n",
    "            split_line = line.split() \n",
    "            # first element of split_line and word and rest is vector representation of corresponding word\n",
    "            word = split_line[0]\n",
    "            vector = np.array([float(i) for i in split_line[1:]])\n",
    "            glove_dict[word] = vector\n",
    "    print(\"\\nGloVe is loaded. There are total {} words\".format(len(glove_dict)))    \n",
    "    return glove_dict\n",
    "\n",
    "glove_dict = load_GloVe_vector('glove.42B.300d.txt') "
   ]
  },
  {
   "cell_type": "code",
   "execution_count": 0,
   "metadata": {
    "colab": {},
    "colab_type": "code",
    "id": "B52RekolTuRH"
   },
   "outputs": [],
   "source": [
    "# below array will be used in Embedding layer\n",
    "embedding_matrix1 = np.zeros((vocab_size1, 300), dtype = 'float32')\n",
    "for word, index in tokens.word_index.items():\n",
    "    embedding_vector = glove_dict.get(word)\n",
    "    if embedding_vector is not None:\n",
    "        embedding_matrix1[index] = embedding_vector"
   ]
  },
  {
   "cell_type": "markdown",
   "metadata": {
    "colab_type": "text",
    "id": "vf9sBbRJaf09"
   },
   "source": [
    "### 1.1.3 Numerical Data"
   ]
  },
  {
   "cell_type": "code",
   "execution_count": 59,
   "metadata": {
    "colab": {
     "base_uri": "https://localhost:8080/",
     "height": 0
    },
    "colab_type": "code",
    "id": "DB4rVn_jzELy",
    "outputId": "85c1e195-f0a7-4204-f900-ba7b767e8ecb"
   },
   "outputs": [
    {
     "name": "stdout",
     "output_type": "stream",
     "text": [
      "Shape of numerical features: Train = (87398, 2), CV = (10925, 2), and Test = (10925, 2)\n"
     ]
    }
   ],
   "source": [
    "numerical_features_train = x_train[[\"teacher_number_of_previously_posted_projects\", \"price\"]].values\n",
    "numerical_features_cv    = x_cv[[\"teacher_number_of_previously_posted_projects\", \"price\"]].values\n",
    "numerical_features_test  = x_test[[\"teacher_number_of_previously_posted_projects\", \"price\"]].values\n",
    "\n",
    "std = StandardScaler()\n",
    "numerical_features_train = std.fit_transform(numerical_features_train)\n",
    "numerical_features_cv    = std.transform(numerical_features_cv)\n",
    "numerical_features_test  = std.transform(numerical_features_cv)\n",
    "\n",
    "\n",
    "print(\"Shape of numerical features: Train = {}, CV = {}, and Test = {}\"\n",
    "      .format(numerical_features_train.shape, numerical_features_cv.shape, numerical_features_test.shape))"
   ]
  },
  {
   "cell_type": "markdown",
   "metadata": {
    "colab_type": "text",
    "id": "l0d6pGPH0evZ"
   },
   "source": [
    "## 1.2 Training and Evaluation of model"
   ]
  },
  {
   "cell_type": "markdown",
   "metadata": {
    "colab_type": "text",
    "id": "w-2CCs3Y0tWo"
   },
   "source": [
    "**Architecture**\n",
    "<img src= 'https://i.imgur.com/w395Yk9.png'>\n",
    "\n",
    "**Source**: https://i.imgur.com/w395Yk9.png"
   ]
  },
  {
   "cell_type": "code",
   "execution_count": 0,
   "metadata": {
    "colab": {},
    "colab_type": "code",
    "id": "Ef8UrYjpyHhD"
   },
   "outputs": [],
   "source": [
    "def auc(y_true, y_pred):\n",
    "    return tf.py_func(roc_auc_score, (y_true, y_pred), tf.double)\n",
    "  \n",
    "def plot_history(history):\n",
    "    train_loss = history.history['loss']\n",
    "    val_loss = history.history['val_loss']\n",
    "\n",
    "    train_auc = history.history['auc']\n",
    "    val_auc = history.history['val_auc']\n",
    "\n",
    "    fig, (ax1, ax2) = plt.subplots(1,2, figsize = (19, 6))\n",
    "    ax1.plot(range(1, len(train_loss)+1), train_loss, label = 'Train Loss')\n",
    "    ax1.plot(range(1, len(train_loss)+1), val_loss, label = 'CV Loss')\n",
    "    ax1.set_title(\"Loss v/s #epochs\", fontsize = 14)\n",
    "    ax1.set_xlabel(\"#epochs\", fontsize = 12)\n",
    "    ax1.set_ylabel(\"binary-loss\", fontsize = 12)\n",
    "    ax1.legend(fontsize = 12)\n",
    "\n",
    "    ax2.plot(range(1, len(train_auc)+1), train_auc, label = 'Train Loss')\n",
    "    ax2.plot(range(1, len(train_auc)+1), val_auc, label = 'CV Loss')\n",
    "    ax2.set_title(\"AUC v/s #epochs\", fontsize = 14)\n",
    "    ax2.set_xlabel(\"#epochs\", fontsize = 12)\n",
    "    ax2.set_ylabel(\"auc (area under the curve)\", fontsize = 12)\n",
    "    ax2.legend(fontsize = 12)\n",
    "\n",
    "    plt.show()"
   ]
  },
  {
   "cell_type": "code",
   "execution_count": 0,
   "metadata": {
    "colab": {
     "base_uri": "https://localhost:8080/",
     "height": 1000
    },
    "colab_type": "code",
    "id": "3UEo9QVE0ax9",
    "outputId": "b360bfd0-2ca4-4f79-cde6-622dcb3c6e78"
   },
   "outputs": [
    {
     "name": "stdout",
     "output_type": "stream",
     "text": [
      "WARNING:tensorflow:From /usr/local/lib/python3.6/dist-packages/keras/backend/tensorflow_backend.py:107: The name tf.reset_default_graph is deprecated. Please use tf.compat.v1.reset_default_graph instead.\n",
      "\n",
      "WARNING:tensorflow:From /usr/local/lib/python3.6/dist-packages/keras/backend/tensorflow_backend.py:111: The name tf.placeholder_with_default is deprecated. Please use tf.compat.v1.placeholder_with_default instead.\n",
      "\n",
      "WARNING:tensorflow:From /usr/local/lib/python3.6/dist-packages/keras/backend/tensorflow_backend.py:66: The name tf.get_default_graph is deprecated. Please use tf.compat.v1.get_default_graph instead.\n",
      "\n",
      "WARNING:tensorflow:From /usr/local/lib/python3.6/dist-packages/keras/backend/tensorflow_backend.py:541: The name tf.placeholder is deprecated. Please use tf.compat.v1.placeholder instead.\n",
      "\n",
      "WARNING:tensorflow:From /usr/local/lib/python3.6/dist-packages/keras/backend/tensorflow_backend.py:4432: The name tf.random_uniform is deprecated. Please use tf.random.uniform instead.\n",
      "\n",
      "WARNING:tensorflow:From /usr/local/lib/python3.6/dist-packages/keras/backend/tensorflow_backend.py:3733: calling dropout (from tensorflow.python.ops.nn_ops) with keep_prob is deprecated and will be removed in a future version.\n",
      "Instructions for updating:\n",
      "Please use `rate` instead of `keep_prob`. Rate should be set to `rate = 1 - keep_prob`.\n",
      "Model: \"Model_1\"\n",
      "__________________________________________________________________________________________________\n",
      "Layer (type)                    Output Shape         Param #     Connected to                     \n",
      "==================================================================================================\n",
      "Essay_text_input (InputLayer)   (None, 400)          0                                            \n",
      "__________________________________________________________________________________________________\n",
      "essay_embedding (Embedding)     (None, 400, 300)     15516600    Essay_text_input[0][0]           \n",
      "__________________________________________________________________________________________________\n",
      "school_state (InputLayer)       (None, 1)            0                                            \n",
      "__________________________________________________________________________________________________\n",
      "teacher_prefix (InputLayer)     (None, 1)            0                                            \n",
      "__________________________________________________________________________________________________\n",
      "project_grade_category (InputLa (None, 1)            0                                            \n",
      "__________________________________________________________________________________________________\n",
      "clean_categories (InputLayer)   (None, 3)            0                                            \n",
      "__________________________________________________________________________________________________\n",
      "clean_subcategories (InputLayer (None, 3)            0                                            \n",
      "__________________________________________________________________________________________________\n",
      "lstm_1 (LSTM)                   (None, 400, 150)     270600      essay_embedding[0][0]            \n",
      "__________________________________________________________________________________________________\n",
      "school_state_embedding (Embeddi (None, 1, 8)         408         school_state[0][0]               \n",
      "__________________________________________________________________________________________________\n",
      "teacher_prefix_embedding (Embed (None, 1, 2)         10          teacher_prefix[0][0]             \n",
      "__________________________________________________________________________________________________\n",
      "project_grade_category_embeddin (None, 1, 2)         8           project_grade_category[0][0]     \n",
      "__________________________________________________________________________________________________\n",
      "clean_categories_embedding (Emb (None, 3, 2)         18          clean_categories[0][0]           \n",
      "__________________________________________________________________________________________________\n",
      "clean_subcategories_embedding ( (None, 3, 4)         120         clean_subcategories[0][0]        \n",
      "__________________________________________________________________________________________________\n",
      "numerical_feature (InputLayer)  (None, 2)            0                                            \n",
      "__________________________________________________________________________________________________\n",
      "flatten1 (Flatten)              (None, 60000)        0           lstm_1[0][0]                     \n",
      "__________________________________________________________________________________________________\n",
      "flatten2 (Flatten)              (None, 8)            0           school_state_embedding[0][0]     \n",
      "__________________________________________________________________________________________________\n",
      "flatten3 (Flatten)              (None, 2)            0           teacher_prefix_embedding[0][0]   \n",
      "__________________________________________________________________________________________________\n",
      "flatten4 (Flatten)              (None, 2)            0           project_grade_category_embedding[\n",
      "__________________________________________________________________________________________________\n",
      "flatten5 (Flatten)              (None, 6)            0           clean_categories_embedding[0][0] \n",
      "__________________________________________________________________________________________________\n",
      "flatten6 (Flatten)              (None, 12)           0           clean_subcategories_embedding[0][\n",
      "__________________________________________________________________________________________________\n",
      "numerical_dense_layer (Dense)   (None, 8)            24          numerical_feature[0][0]          \n",
      "__________________________________________________________________________________________________\n",
      "concatenation (Concatenate)     (None, 60038)        0           flatten1[0][0]                   \n",
      "                                                                 flatten2[0][0]                   \n",
      "                                                                 flatten3[0][0]                   \n",
      "                                                                 flatten4[0][0]                   \n",
      "                                                                 flatten5[0][0]                   \n",
      "                                                                 flatten6[0][0]                   \n",
      "                                                                 numerical_dense_layer[0][0]      \n",
      "__________________________________________________________________________________________________\n",
      "dense_layer_1 (Dense)           (None, 256)          15369984    concatenation[0][0]              \n",
      "__________________________________________________________________________________________________\n",
      "BN_1 (BatchNormalization)       (None, 256)          1024        dense_layer_1[0][0]              \n",
      "__________________________________________________________________________________________________\n",
      "activation1 (Activation)        (None, 256)          0           BN_1[0][0]                       \n",
      "__________________________________________________________________________________________________\n",
      "dropout1 (Dropout)              (None, 256)          0           activation1[0][0]                \n",
      "__________________________________________________________________________________________________\n",
      "dense_layer_2 (Dense)           (None, 128)          32896       dropout1[0][0]                   \n",
      "__________________________________________________________________________________________________\n",
      "BN_2 (BatchNormalization)       (None, 128)          512         dense_layer_2[0][0]              \n",
      "__________________________________________________________________________________________________\n",
      "activation2 (Activation)        (None, 128)          0           BN_2[0][0]                       \n",
      "__________________________________________________________________________________________________\n",
      "dropout2 (Dropout)              (None, 128)          0           activation2[0][0]                \n",
      "__________________________________________________________________________________________________\n",
      "dense_layer3 (Dense)            (None, 64)           8256        dropout2[0][0]                   \n",
      "__________________________________________________________________________________________________\n",
      "BN_3 (BatchNormalization)       (None, 64)           256         dense_layer3[0][0]               \n",
      "__________________________________________________________________________________________________\n",
      "activartion3 (Activation)       (None, 64)           0           BN_3[0][0]                       \n",
      "__________________________________________________________________________________________________\n",
      "output_layer (Dense)            (None, 1)            65          activartion3[0][0]               \n",
      "==================================================================================================\n",
      "Total params: 31,200,781\n",
      "Trainable params: 15,683,285\n",
      "Non-trainable params: 15,517,496\n",
      "__________________________________________________________________________________________________\n",
      "None\n"
     ]
    }
   ],
   "source": [
    "#clearing the graph\n",
    "keras.backend.clear_session()\n",
    "\n",
    "# text input, max_len_essay\n",
    "text_input = Input(shape = (encoded_essay_train.shape[1], ), name = 'Essay_text_input')\n",
    "text_essay_embedding = Embedding(input_dim = vocab_size1, output_dim = 300, \n",
    "                                 weights=[embedding_matrix1], input_length = max_len_essay, \n",
    "                                 trainable = False, name = 'essay_embedding')(text_input)\n",
    "#LSTM layer\n",
    "lstm = LSTM(units = 150, dropout = 0.2, recurrent_dropout = 0.2, \n",
    "            kernel_regularizer = keras.regularizers.l2(0.001), return_sequences=True)(text_essay_embedding)\n",
    "flatten1 = Flatten(name = 'flatten1')(lstm)\n",
    "\n",
    "# school_state input\n",
    "state_input = Input(shape = (school_state_train.shape[1], ), name = 'school_state')\n",
    "state_embedding = Embedding(input_dim = len1, output_dim = 8, input_length = school_state_train.shape[1], \n",
    "                            name = 'school_state_embedding')(state_input)\n",
    "flatten2 = Flatten(name = 'flatten2')(state_embedding)\n",
    "\n",
    "# teacher_prefix input\n",
    "teacher_prefix_input = Input(shape = (teacher_prefix_train.shape[1], ), name = 'teacher_prefix')\n",
    "teacher_prefix_embedding = Embedding(input_dim = len2, output_dim = 2, input_length = teacher_prefix_train.shape[1], \n",
    "                            name = 'teacher_prefix_embedding')(teacher_prefix_input)\n",
    "flatten3 = Flatten(name = 'flatten3')(teacher_prefix_embedding)\n",
    "\n",
    "# project_grade_category input\n",
    "project_grade_category_input = Input(shape = (project_grade_category_train.shape[1], ), name = 'project_grade_category')\n",
    "project_grade_category_embedding = Embedding(input_dim = len3, output_dim = 2, input_length = project_grade_category_train.shape[1], \n",
    "                            name = 'project_grade_category_embedding')(project_grade_category_input)\n",
    "flatten4 = Flatten(name = 'flatten4')(project_grade_category_embedding)\n",
    "\n",
    "# clean_categories input\n",
    "clean_categories_input = Input(shape = (clean_categories_train.shape[1], ), name = 'clean_categories')\n",
    "clean_categories_embedding = Embedding(input_dim = len4, output_dim = 2, input_length = clean_categories_train.shape[1], \n",
    "                            name = 'clean_categories_embedding')(clean_categories_input)\n",
    "flatten5 = Flatten(name = 'flatten5')(clean_categories_embedding)\n",
    "\n",
    "# clean_subcategories input\n",
    "clean_subcategories_input = Input(shape = (clean_subcategories_train.shape[1], ), name = 'clean_subcategories')\n",
    "clean_subcategories_embedding = Embedding(input_dim = len5, output_dim = 4, input_length = clean_subcategories_train.shape[1], \n",
    "                            name = 'clean_subcategories_embedding')(clean_subcategories_input)\n",
    "flatten6 = Flatten(name = 'flatten6')(clean_subcategories_embedding)\n",
    "\n",
    "# numerical feature input\n",
    "numerical_input = Input(shape = (numerical_features_train.shape[1], ), name = 'numerical_feature')\n",
    "# dense layer\n",
    "numerical_dens = Dense(units = 8, activation = 'relu', kernel_initializer = 'he_normal',\n",
    "                       kernel_regularizer = keras.regularizers.l2(0.001), name = 'numerical_dense_layer')(numerical_input)\n",
    "\n",
    "concat = concatenate(inputs = [flatten1, flatten2, flatten3, flatten4, flatten5, flatten6, numerical_dens], name = 'concatenation')\n",
    "\n",
    "# Dense layer\n",
    "X = Dense(units = 256, kernel_initializer = 'he_normal', \n",
    "          kernel_regularizer = keras.regularizers.l2(0.001), name = 'dense_layer_1')(concat)\n",
    "X = BatchNormalization(name = 'BN_1')(X)\n",
    "X = Activation('relu', name = 'activation1')(X)\n",
    "X = Dropout(0.4, name = 'dropout1')(X)\n",
    "\n",
    "# Dense layer\n",
    "X = Dense(units = 128, kernel_initializer = 'he_normal',\n",
    "          kernel_regularizer = keras.regularizers.l2(0.001), name = 'dense_layer_2')(X)\n",
    "X = BatchNormalization(name = 'BN_2')(X)\n",
    "X = Activation('relu', name = 'activation2')(X)\n",
    "X = Dropout(0.4, name = 'dropout2')(X)\n",
    "\n",
    "# Dense layer\n",
    "X = Dense(units = 64, kernel_initializer = 'he_normal',\n",
    "          kernel_regularizer = keras.regularizers.l2(0.001), name = 'dense_layer3')(X)\n",
    "X = BatchNormalization(name = 'BN_3')(X)\n",
    "X = Activation('relu', name = 'activartion3')(X)\n",
    "\n",
    "#output layer\n",
    "X = Dense(units = 1, activation = 'sigmoid',\n",
    "          kernel_regularizer = keras.regularizers.l2(0.001), name = 'output_layer')(X)\n",
    "\n",
    "model = Model(inputs = [text_input, state_input, teacher_prefix_input, project_grade_category_input, clean_categories_input,\n",
    "                        clean_subcategories_input, numerical_input], outputs = X, name = 'Model_1')\n",
    "print(model.summary())"
   ]
  },
  {
   "cell_type": "markdown",
   "metadata": {
    "colab_type": "text",
    "id": "3owfQr_VHKdr"
   },
   "source": [
    "**Reference**:\n",
    "* For [early stopping and callback](https://machinelearningmastery.com/how-to-stop-training-deep-neural-networks-at-the-right-time-using-early-stopping/)\n",
    "* Keras [early stopping](https://keras.io/callbacks/#earlystopping) and [model check point](https://keras.io/callbacks/#modelcheckpoint)"
   ]
  },
  {
   "cell_type": "code",
   "execution_count": 0,
   "metadata": {
    "colab": {
     "base_uri": "https://localhost:8080/",
     "height": 1000
    },
    "colab_type": "code",
    "id": "liopJfh8xah5",
    "outputId": "8cc0fa02-c804-4f25-c0db-93ed07d39f42"
   },
   "outputs": [
    {
     "name": "stdout",
     "output_type": "stream",
     "text": [
      "WARNING:tensorflow:From /usr/local/lib/python3.6/dist-packages/keras/optimizers.py:793: The name tf.train.Optimizer is deprecated. Please use tf.compat.v1.train.Optimizer instead.\n",
      "\n",
      "WARNING:tensorflow:From /usr/local/lib/python3.6/dist-packages/tensorflow/python/ops/nn_impl.py:180: add_dispatch_support.<locals>.wrapper (from tensorflow.python.ops.array_ops) is deprecated and will be removed in a future version.\n",
      "Instructions for updating:\n",
      "Use tf.where in 2.0, which has the same broadcast rule as np.where\n",
      "WARNING:tensorflow:From <ipython-input-12-8eabca2e9047>:2: py_func (from tensorflow.python.ops.script_ops) is deprecated and will be removed in a future version.\n",
      "Instructions for updating:\n",
      "tf.py_func is deprecated in TF V2. Instead, there are two\n",
      "    options available in V2.\n",
      "    - tf.py_function takes a python function which manipulates tf eager\n",
      "    tensors instead of numpy arrays. It's easy to convert a tf eager tensor to\n",
      "    an ndarray (just call tensor.numpy()) but having access to eager tensors\n",
      "    means `tf.py_function`s can use accelerators such as GPUs as well as\n",
      "    being differentiable using a gradient tape.\n",
      "    - tf.numpy_function maintains the semantics of the deprecated tf.py_func\n",
      "    (it is not differentiable, and manipulates numpy arrays). It drops the\n",
      "    stateful argument making all functions stateful.\n",
      "    \n",
      "Train on 87398 samples, validate on 10925 samples\n",
      "Epoch 1/100\n",
      "87398/87398 [==============================] - 138s 2ms/step - loss: 1.3339 - auc: 0.5283 - val_loss: 0.8693 - val_auc: 0.5968\n",
      "\n",
      "Epoch 00001: val_auc improved from -inf to 0.59685, saving model to Model_1.h5\n",
      "Epoch 2/100\n",
      "87398/87398 [==============================] - 133s 2ms/step - loss: 0.6637 - auc: 0.6546 - val_loss: 0.6756 - val_auc: 0.6484\n",
      "\n",
      "Epoch 00002: val_auc improved from 0.59685 to 0.64845, saving model to Model_1.h5\n",
      "Epoch 3/100\n",
      "87398/87398 [==============================] - 133s 2ms/step - loss: 0.5480 - auc: 0.6969 - val_loss: 0.5445 - val_auc: 0.7200\n",
      "\n",
      "Epoch 00003: val_auc improved from 0.64845 to 0.71998, saving model to Model_1.h5\n",
      "Epoch 4/100\n",
      "87398/87398 [==============================] - 133s 2ms/step - loss: 0.4960 - auc: 0.7165 - val_loss: 0.5174 - val_auc: 0.7350\n",
      "\n",
      "Epoch 00004: val_auc improved from 0.71998 to 0.73497, saving model to Model_1.h5\n",
      "Epoch 5/100\n",
      "87398/87398 [==============================] - 133s 2ms/step - loss: 0.4674 - auc: 0.7312 - val_loss: 0.4782 - val_auc: 0.6943\n",
      "\n",
      "Epoch 00005: val_auc did not improve from 0.73497\n",
      "Epoch 6/100\n",
      "87398/87398 [==============================] - 133s 2ms/step - loss: 0.4526 - auc: 0.7388 - val_loss: 0.4791 - val_auc: 0.7172\n",
      "\n",
      "Epoch 00006: val_auc did not improve from 0.73497\n",
      "Epoch 7/100\n",
      "87398/87398 [==============================] - 133s 2ms/step - loss: 0.4389 - auc: 0.7416 - val_loss: 0.4546 - val_auc: 0.7425\n",
      "\n",
      "Epoch 00007: val_auc improved from 0.73497 to 0.74251, saving model to Model_1.h5\n",
      "Epoch 8/100\n",
      "87398/87398 [==============================] - 133s 2ms/step - loss: 0.4348 - auc: 0.7474 - val_loss: 0.4370 - val_auc: 0.7416\n",
      "\n",
      "Epoch 00008: val_auc did not improve from 0.74251\n",
      "Epoch 9/100\n",
      "87398/87398 [==============================] - 133s 2ms/step - loss: 0.4278 - auc: 0.7494 - val_loss: 0.4357 - val_auc: 0.7287\n",
      "\n",
      "Epoch 00009: val_auc did not improve from 0.74251\n",
      "Epoch 10/100\n",
      "87398/87398 [==============================] - 133s 2ms/step - loss: 0.4227 - auc: 0.7504 - val_loss: 0.4680 - val_auc: 0.7365\n",
      "\n",
      "Epoch 00010: val_auc did not improve from 0.74251\n",
      "Epoch 11/100\n",
      "87398/87398 [==============================] - 133s 2ms/step - loss: 0.4208 - auc: 0.7548 - val_loss: 0.5656 - val_auc: 0.7187\n",
      "\n",
      "Epoch 00011: val_auc did not improve from 0.74251\n",
      "Epoch 12/100\n",
      "87398/87398 [==============================] - 133s 2ms/step - loss: 0.4182 - auc: 0.7547 - val_loss: 0.4438 - val_auc: 0.7381\n",
      "\n",
      "Epoch 00012: val_auc did not improve from 0.74251\n",
      "Epoch 13/100\n",
      "87398/87398 [==============================] - 133s 2ms/step - loss: 0.4144 - auc: 0.7569 - val_loss: 0.4326 - val_auc: 0.7290\n",
      "\n",
      "Epoch 00013: val_auc did not improve from 0.74251\n",
      "Epoch 14/100\n",
      "87398/87398 [==============================] - 133s 2ms/step - loss: 0.4135 - auc: 0.7558 - val_loss: 0.4220 - val_auc: 0.7321\n",
      "\n",
      "Epoch 00014: val_auc did not improve from 0.74251\n",
      "Epoch 15/100\n",
      "87398/87398 [==============================] - 133s 2ms/step - loss: 0.4114 - auc: 0.7593 - val_loss: 0.5458 - val_auc: 0.7118\n",
      "\n",
      "Epoch 00015: val_auc did not improve from 0.74251\n",
      "Epoch 16/100\n",
      "87398/87398 [==============================] - 133s 2ms/step - loss: 0.4084 - auc: 0.7592 - val_loss: 0.4165 - val_auc: 0.7432\n",
      "\n",
      "Epoch 00016: val_auc improved from 0.74251 to 0.74318, saving model to Model_1.h5\n",
      "Epoch 17/100\n",
      "87398/87398 [==============================] - 134s 2ms/step - loss: 0.4067 - auc: 0.7597 - val_loss: 0.4549 - val_auc: 0.7162\n",
      "\n",
      "Epoch 00017: val_auc did not improve from 0.74318\n",
      "Epoch 18/100\n",
      "87398/87398 [==============================] - 133s 2ms/step - loss: 0.4083 - auc: 0.7634 - val_loss: 0.4394 - val_auc: 0.7262\n",
      "\n",
      "Epoch 00018: val_auc did not improve from 0.74318\n",
      "Epoch 19/100\n",
      "87398/87398 [==============================] - 133s 2ms/step - loss: 0.4077 - auc: 0.7632 - val_loss: 0.5802 - val_auc: 0.7306\n",
      "\n",
      "Epoch 00019: val_auc did not improve from 0.74318\n",
      "Epoch 20/100\n",
      "87398/87398 [==============================] - 133s 2ms/step - loss: 0.4078 - auc: 0.7608 - val_loss: 0.4710 - val_auc: 0.6278\n",
      "\n",
      "Epoch 00020: val_auc did not improve from 0.74318\n",
      "Epoch 21/100\n",
      "87398/87398 [==============================] - 133s 2ms/step - loss: 0.4059 - auc: 0.7643 - val_loss: 0.4571 - val_auc: 0.6431\n",
      "\n",
      "Epoch 00021: val_auc did not improve from 0.74318\n",
      "Epoch 22/100\n",
      "87398/87398 [==============================] - 133s 2ms/step - loss: 0.4059 - auc: 0.7636 - val_loss: 0.4212 - val_auc: 0.7309\n",
      "\n",
      "Epoch 00022: val_auc did not improve from 0.74318\n",
      "Epoch 23/100\n",
      "87398/87398 [==============================] - 133s 2ms/step - loss: 0.4048 - auc: 0.7639 - val_loss: 0.5747 - val_auc: 0.6613\n",
      "\n",
      "Epoch 00023: val_auc did not improve from 0.74318\n",
      "Epoch 24/100\n",
      "87398/87398 [==============================] - 133s 2ms/step - loss: 0.4041 - auc: 0.7647 - val_loss: 0.4573 - val_auc: 0.7513\n",
      "\n",
      "Epoch 00024: val_auc improved from 0.74318 to 0.75127, saving model to Model_1.h5\n",
      "Epoch 25/100\n",
      "87398/87398 [==============================] - 132s 2ms/step - loss: 0.4045 - auc: 0.7635 - val_loss: 0.6324 - val_auc: 0.7341\n",
      "\n",
      "Epoch 00025: val_auc did not improve from 0.75127\n",
      "Epoch 26/100\n",
      "87398/87398 [==============================] - 132s 2ms/step - loss: 0.4023 - auc: 0.7657 - val_loss: 0.4621 - val_auc: 0.7427\n",
      "\n",
      "Epoch 00026: val_auc did not improve from 0.75127\n",
      "Epoch 27/100\n",
      "87398/87398 [==============================] - 133s 2ms/step - loss: 0.4033 - auc: 0.7682 - val_loss: 0.5391 - val_auc: 0.7482\n",
      "\n",
      "Epoch 00027: val_auc did not improve from 0.75127\n",
      "Epoch 28/100\n",
      "87398/87398 [==============================] - 134s 2ms/step - loss: 0.4068 - auc: 0.7654 - val_loss: 0.7784 - val_auc: 0.7476\n",
      "\n",
      "Epoch 00028: val_auc did not improve from 0.75127\n",
      "Epoch 29/100\n",
      "87398/87398 [==============================] - 133s 2ms/step - loss: 0.4052 - auc: 0.7675 - val_loss: 0.7544 - val_auc: 0.7429\n",
      "\n",
      "Epoch 00029: val_auc did not improve from 0.75127\n",
      "Epoch 30/100\n",
      "87398/87398 [==============================] - 133s 2ms/step - loss: 0.4053 - auc: 0.7691 - val_loss: 0.4273 - val_auc: 0.7494\n",
      "\n",
      "Epoch 00030: val_auc did not improve from 0.75127\n",
      "Epoch 31/100\n",
      "87398/87398 [==============================] - 133s 2ms/step - loss: 0.4065 - auc: 0.7689 - val_loss: 0.4299 - val_auc: 0.7461\n",
      "\n",
      "Epoch 00031: val_auc did not improve from 0.75127\n",
      "Epoch 00031: early stopping\n"
     ]
    }
   ],
   "source": [
    "# https://machinelearningmastery.com/how-to-stop-training-deep-neural-networks-at-the-right-time-using-early-stopping/\n",
    "# https://keras.io/callbacks/#earlystopping\n",
    "# https://keras.io/callbacks/#modelcheckpoint\n",
    "es = EarlyStopping(monitor = 'val_loss', mode = 'min', min_delta = 0.001, patience = 15, verbose = 1)\n",
    "mc = ModelCheckpoint(\"Model_1.h5\", monitor = \"val_auc\", mode = 'max', save_best_only = True, verbose = 1)\n",
    "\n",
    "model.compile(optimizer = 'adam', loss = 'binary_crossentropy', metrics = [auc])\n",
    "history = model.fit([encoded_essay_train, school_state_train, teacher_prefix_train, \n",
    "                     project_grade_category_train, clean_categories_train, clean_subcategories_train,\n",
    "                     numerical_features_train], y_train,\n",
    "                    validation_data = ([encoded_essay_cv, school_state_cv, teacher_prefix_cv,\n",
    "                                        project_grade_category_cv, clean_categories_cv,\n",
    "                                        clean_subcategories_cv, numerical_features_cv], y_cv),\n",
    "                    epochs = 100, batch_size = 1024, callbacks = [es, mc], verbose = 1)\n",
    "\n",
    "# deleting the model\n",
    "del model"
   ]
  },
  {
   "cell_type": "code",
   "execution_count": 0,
   "metadata": {
    "colab": {
     "base_uri": "https://localhost:8080/",
     "height": 408
    },
    "colab_type": "code",
    "id": "Ofg6_2tmDSDY",
    "outputId": "440836f2-13ac-4b2a-9943-9f7487211136"
   },
   "outputs": [
    {
     "data": {
      "image/png": "[encoded data removed]",
      "text/plain": [
       "<Figure size 1368x432 with 2 Axes>"
      ]
     },
     "metadata": {
      "tags": []
     },
     "output_type": "display_data"
    }
   ],
   "source": [
    "plot_history(history)"
   ]
  },
  {
   "cell_type": "code",
   "execution_count": 60,
   "metadata": {
    "colab": {
     "base_uri": "https://localhost:8080/",
     "height": 34
    },
    "colab_type": "code",
    "id": "WdFjnKK1Og19",
    "outputId": "d20f7564-de76-436a-fa82-11720cbf7f32"
   },
   "outputs": [
    {
     "name": "stdout",
     "output_type": "stream",
     "text": [
      "Mounted at /content/drive\n"
     ]
    }
   ],
   "source": [
    "from google.colab import drive\n",
    "drive.mount('/content/drive')"
   ]
  },
  {
   "cell_type": "code",
   "execution_count": 63,
   "metadata": {
    "colab": {
     "base_uri": "https://localhost:8080/",
     "height": 187
    },
    "colab_type": "code",
    "id": "mG2WWjZ-Slfj",
    "outputId": "8d51601e-6bec-4af7-89e8-c280c8e7d82b"
   },
   "outputs": [
    {
     "name": "stdout",
     "output_type": "stream",
     "text": [
      "\n",
      "Loadingg the model..\n",
      "Evaluating model...\n",
      "For train data...\n",
      "87398/87398 [==============================] - 71s 814us/step\n",
      "For test data...\n",
      "10925/10925 [==============================] - 9s 811us/step\n",
      "\n",
      "For training data: Loss = 0.4431 and AUC = 0.7833\n",
      "For test data: Loss = 0.4835 and AUC = 0.7536\n"
     ]
    }
   ],
   "source": [
    "# custom metric error during loading the model:  # https://github.com/keras-team/keras/issues/5916#issuecomment-300038263\n",
    "print(\"\\nLoadingg the model..\")\n",
    "if os.path.isfile(d+\"Donor-Choose/Model_1.h5\"):\n",
    "    model1 = load_model(d+\"Donor-Choose/Model_1.h5\", custom_objects = {\"auc\": auc})\n",
    "else:\n",
    "    #move the saved model to dirve\n",
    "    !cp \"/content/Model_1.h5\" \"/content/drive/My Drive/Colab Notebooks/Dataset/Google_Word2Vec/Donor-Choose\"\n",
    "    model1 = load_model(\"Model_1.h5\", custom_objects = {\"auc\":auc})\n",
    "    \n",
    "\n",
    "print(\"Evaluating model...\")\n",
    "print(\"For train data...\")\n",
    "score1 = model1.evaluate([encoded_essay_train, school_state_train, teacher_prefix_train, \n",
    "                     project_grade_category_train, clean_categories_train, clean_subcategories_train,\n",
    "                     numerical_features_train], y_train, batch_size = 512)\n",
    "\n",
    "print(\"For test data...\")\n",
    "score2 = model1.evaluate([encoded_essay_test, school_state_test, teacher_prefix_test, \n",
    "                     project_grade_category_test, clean_categories_test, clean_subcategories_test,\n",
    "                     numerical_features_test], y_test, batch_size = 512)\n",
    "print(\"\\nFor training data: Loss = {:.4} and AUC = {:.4}\\nFor test data: Loss = {:.4} and AUC = {:.4}\"\n",
    "      .format(score1[0], score1[1], score2[0], score2[1]))\n",
    "table.add_row([\"Model 1\", round(score1[0], 4), round(score1[1], 4), round(score2[0], 4), round(score2[1], 4)])"
   ]
  },
  {
   "cell_type": "markdown",
   "metadata": {
    "colab_type": "text",
    "id": "9QGZgSl4ql8V"
   },
   "source": [
    "# Model 2"
   ]
  },
  {
   "cell_type": "markdown",
   "metadata": {
    "colab_type": "text",
    "id": "0TtFKVLFq_Jt"
   },
   "source": [
    "## 2.1 Pre-processing"
   ]
  },
  {
   "cell_type": "markdown",
   "metadata": {
    "colab_type": "text",
    "id": "lOugVWhjrGWw"
   },
   "source": [
    "### 2.1.1 Text data (`essay` feature)"
   ]
  },
  {
   "cell_type": "markdown",
   "metadata": {
    "colab_type": "text",
    "id": "9VSPmBZm7B-R"
   },
   "source": [
    "**Note:** Selecting only those words which have **idf score value inbetween 2 and 11.**"
   ]
  },
  {
   "cell_type": "code",
   "execution_count": 64,
   "metadata": {
    "colab": {
     "base_uri": "https://localhost:8080/",
     "height": 544
    },
    "colab_type": "code",
    "id": "2ugVpSD4qnOt",
    "outputId": "15dc2b52-2a98-410b-8122-c744a75de30c"
   },
   "outputs": [
    {
     "name": "stdout",
     "output_type": "stream",
     "text": [
      "Number of tokens in training data:  51685\n",
      "IDF scores are:\n",
      "1st quantile   = 1.0079146235593675 (minimum)\n",
      "25th quantile  = 9.670188918828364\n",
      "50th quantile  = 11.279626831262464 (median)\n",
      "75th qunatile  = 11.685091939370627\n",
      "100th quantile = 11.685091939370627 (maximum)\n"
     ]
    },
    {
     "data": {
      "image/png": "[encoded data removed]",
      "text/plain": [
       "<Figure size 1080x432 with 1 Axes>"
      ]
     },
     "metadata": {
      "tags": []
     },
     "output_type": "display_data"
    },
    {
     "name": "stdout",
     "output_type": "stream",
     "text": [
      "Number of tokens after dropping the tokens which have very high and very low idf score:  25503\n"
     ]
    }
   ],
   "source": [
    "tfidf = TfidfVectorizer()\n",
    "tfidf.fit(x_train[\"essay\"].values)\n",
    "\n",
    "df1 = pd.DataFrame(data = [[i, j] for i, j in zip(tfidf.get_feature_names(), tfidf.idf_)], columns = [\"word\", \"idf\"])\n",
    "print(\"Number of tokens in training data: \", df1.shape[0])\n",
    "print(\"IDF scores are:\\n1st quantile   = {} (minimum)\\n\\\n",
    "25th quantile  = {}\\\n",
    "\\n50th quantile  = {} (median)\\n\\\n",
    "75th qunatile  = {}\\n\\\n",
    "100th quantile = {} (maximum)\"\n",
    "      .format(np.quantile(df1[\"idf\"].values, 0), \n",
    "              np.quantile(df1[\"idf\"].values, 0.25),\n",
    "              np.quantile(df1[\"idf\"].values, 0.50),\n",
    "              np.quantile(df1[\"idf\"].values, 0.75),\n",
    "              np.quantile(df1[\"idf\"].values, 1)))\n",
    "\n",
    "plt.figure(figsize = (15, 6))\n",
    "sns.boxplot(x = \"idf\", data = df1)\n",
    "plt.title(\"Box-Plot of `IDF` scores of words\", fontsize = 14)\n",
    "plt.xlabel('IDF Score', fontsize = 12)\n",
    "plt.show()\n",
    "\n",
    "#selecting the words whoose idf score is IQR range\n",
    "df1 = df1[(df1[\"idf\"] >= 2) & (df1[\"idf\"] <= 11)]\n",
    "vocab_size2 = df1.shape[0]+1\n",
    "print(\"Number of tokens after dropping the tokens which have very high and very low idf score: \", df1.shape[0])"
   ]
  },
  {
   "cell_type": "code",
   "execution_count": 65,
   "metadata": {
    "colab": {
     "base_uri": "https://localhost:8080/",
     "height": 204
    },
    "colab_type": "code",
    "id": "ZeXWnHMYtkh1",
    "outputId": "48bd7659-dac1-4975-d94a-c72b1da67743"
   },
   "outputs": [
    {
     "data": {
      "text/html": [
       "<div>\n",
       "<style scoped>\n",
       "    .dataframe tbody tr th:only-of-type {\n",
       "        vertical-align: middle;\n",
       "    }\n",
       "\n",
       "    .dataframe tbody tr th {\n",
       "        vertical-align: top;\n",
       "    }\n",
       "\n",
       "    .dataframe thead th {\n",
       "        text-align: right;\n",
       "    }\n",
       "</style>\n",
       "<table border=\"1\" class=\"dataframe\">\n",
       "  <thead>\n",
       "    <tr style=\"text-align: right;\">\n",
       "      <th></th>\n",
       "      <th>index</th>\n",
       "      <th>word</th>\n",
       "      <th>idf</th>\n",
       "    </tr>\n",
       "  </thead>\n",
       "  <tbody>\n",
       "    <tr>\n",
       "      <th>0</th>\n",
       "      <td>1</td>\n",
       "      <td>zusak</td>\n",
       "      <td>10.991945</td>\n",
       "    </tr>\n",
       "    <tr>\n",
       "      <th>1</th>\n",
       "      <td>2</td>\n",
       "      <td>burch</td>\n",
       "      <td>10.991945</td>\n",
       "    </tr>\n",
       "    <tr>\n",
       "      <th>2</th>\n",
       "      <td>3</td>\n",
       "      <td>naea</td>\n",
       "      <td>10.991945</td>\n",
       "    </tr>\n",
       "    <tr>\n",
       "      <th>3</th>\n",
       "      <td>4</td>\n",
       "      <td>nacho</td>\n",
       "      <td>10.991945</td>\n",
       "    </tr>\n",
       "    <tr>\n",
       "      <th>4</th>\n",
       "      <td>5</td>\n",
       "      <td>nable</td>\n",
       "      <td>10.991945</td>\n",
       "    </tr>\n",
       "  </tbody>\n",
       "</table>\n",
       "</div>"
      ],
      "text/plain": [
       "   index   word        idf\n",
       "0      1  zusak  10.991945\n",
       "1      2  burch  10.991945\n",
       "2      3   naea  10.991945\n",
       "3      4  nacho  10.991945\n",
       "4      5  nable  10.991945"
      ]
     },
     "execution_count": 65,
     "metadata": {
      "tags": []
     },
     "output_type": "execute_result"
    }
   ],
   "source": [
    "df1 = df1.sort_values([\"idf\"], ascending = False).reset_index(drop = True)\n",
    "df1[\"index\"] = range(1, df1.shape[0]+1)\n",
    "vocab_dict = dict(zip(df1[\"word\"], df1[\"index\"]))\n",
    "df1 = df1[[\"index\", \"word\", \"idf\"]]\n",
    "df1.head()"
   ]
  },
  {
   "cell_type": "code",
   "execution_count": 66,
   "metadata": {
    "colab": {
     "base_uri": "https://localhost:8080/",
     "height": 51
    },
    "colab_type": "code",
    "id": "RWx2Amub8WFI",
    "outputId": "747cf7cc-e47d-470e-838a-76cf7688bed2"
   },
   "outputs": [
    {
     "name": "stdout",
     "output_type": "stream",
     "text": [
      "maximum length of essay in train data is 294, but I'm taking 300 as deafult\n",
      "Shape of train, cv and test data are: (87398, 300), (10925, 300) and (10925, 300)\n"
     ]
    }
   ],
   "source": [
    "def return_text_encode(essays, vocab_dict):\n",
    "    lst1 = []\n",
    "    for essay in essays:\n",
    "        lst = []\n",
    "        for word in essay.split():\n",
    "            try:\n",
    "                lst.append(vocab_dict[word])\n",
    "            except:\n",
    "                continue\n",
    "        lst1.append(lst)\n",
    "    max_len_text = max([len(i) for i in lst1])\n",
    "    return lst1, max_len_text\n",
    "\n",
    "\n",
    "def encode_text_same_dimension():\n",
    "    lst1, max_len_text = return_text_encode(x_train[\"essay\"].values, vocab_dict)\n",
    "    print(\"maximum length of essay in train data is {}, but I'm taking {} as deafult\".format(max_len_text, 300))\n",
    "    max_len_text = 300\n",
    "    lst2, _ = return_text_encode(x_cv[\"essay\"].values, vocab_dict)\n",
    "    lst3, _ = return_text_encode(x_test[\"essay\"].values, vocab_dict)\n",
    "    \n",
    "    lst1 = pad_sequences(lst1, maxlen = max_len_text, padding = 'post', truncating = 'post')\n",
    "    lst2 = pad_sequences(lst2, maxlen = max_len_text, padding = 'post', truncating = 'post')\n",
    "    lst3 = pad_sequences(lst3, maxlen = max_len_text, padding = 'post', truncating = 'post')\n",
    "    \n",
    "    return lst1, lst2, lst3, max_len_text\n",
    "  \n",
    "encoded_essay_train, encoded_essay_cv, encoded_essay_test, max_len_text = encode_text_same_dimension()\n",
    "print(\"Shape of train, cv and test data are: {}, {} and {}\".format(encoded_essay_train.shape, \n",
    "                                                                   encoded_essay_cv.shape, encoded_essay_test.shape))"
   ]
  },
  {
   "cell_type": "code",
   "execution_count": 0,
   "metadata": {
    "colab": {},
    "colab_type": "code",
    "id": "LTOBiGHAFa2g"
   },
   "outputs": [],
   "source": [
    "# below array will be used in Embedding layer\n",
    "embedding_matrix2 = np.zeros((vocab_size2, 300), dtype = 'float32')\n",
    "for word, index in vocab_dict.items():\n",
    "    embedding_vector = glove_dict.get(word)\n",
    "    if embedding_vector is not None:\n",
    "        embedding_matrix2[index] = embedding_vector"
   ]
  },
  {
   "cell_type": "markdown",
   "metadata": {
    "colab_type": "text",
    "id": "OtozWf_wkj9s"
   },
   "source": [
    "## 2.2 Model Trainin and Evaluating"
   ]
  },
  {
   "cell_type": "code",
   "execution_count": 68,
   "metadata": {
    "colab": {
     "base_uri": "https://localhost:8080/",
     "height": 1000
    },
    "colab_type": "code",
    "id": "ZFHWMyLmKMbP",
    "outputId": "5eb7c97e-7580-40aa-ea9f-d45acc536155"
   },
   "outputs": [
    {
     "name": "stdout",
     "output_type": "stream",
     "text": [
      "Model: \"Model_2\"\n",
      "__________________________________________________________________________________________________\n",
      "Layer (type)                    Output Shape         Param #     Connected to                     \n",
      "==================================================================================================\n",
      "Essay_text_input (InputLayer)   (None, 300)          0                                            \n",
      "__________________________________________________________________________________________________\n",
      "essay_embedding (Embedding)     (None, 300, 300)     7651200     Essay_text_input[0][0]           \n",
      "__________________________________________________________________________________________________\n",
      "school_state (InputLayer)       (None, 1)            0                                            \n",
      "__________________________________________________________________________________________________\n",
      "teacher_prefix (InputLayer)     (None, 1)            0                                            \n",
      "__________________________________________________________________________________________________\n",
      "project_grade_category (InputLa (None, 1)            0                                            \n",
      "__________________________________________________________________________________________________\n",
      "clean_categories (InputLayer)   (None, 3)            0                                            \n",
      "__________________________________________________________________________________________________\n",
      "clean_subcategories (InputLayer (None, 3)            0                                            \n",
      "__________________________________________________________________________________________________\n",
      "lstm_1 (LSTM)                   (None, 300, 150)     270600      essay_embedding[0][0]            \n",
      "__________________________________________________________________________________________________\n",
      "school_state_embedding (Embeddi (None, 1, 8)         408         school_state[0][0]               \n",
      "__________________________________________________________________________________________________\n",
      "teacher_prefix_embedding (Embed (None, 1, 2)         10          teacher_prefix[0][0]             \n",
      "__________________________________________________________________________________________________\n",
      "project_grade_category_embeddin (None, 1, 2)         8           project_grade_category[0][0]     \n",
      "__________________________________________________________________________________________________\n",
      "clean_categories_embedding (Emb (None, 3, 2)         18          clean_categories[0][0]           \n",
      "__________________________________________________________________________________________________\n",
      "clean_subcategories_embedding ( (None, 3, 4)         120         clean_subcategories[0][0]        \n",
      "__________________________________________________________________________________________________\n",
      "numerical_feature (InputLayer)  (None, 2)            0                                            \n",
      "__________________________________________________________________________________________________\n",
      "flatten1 (Flatten)              (None, 45000)        0           lstm_1[0][0]                     \n",
      "__________________________________________________________________________________________________\n",
      "flatten2 (Flatten)              (None, 8)            0           school_state_embedding[0][0]     \n",
      "__________________________________________________________________________________________________\n",
      "flatten3 (Flatten)              (None, 2)            0           teacher_prefix_embedding[0][0]   \n",
      "__________________________________________________________________________________________________\n",
      "flatten4 (Flatten)              (None, 2)            0           project_grade_category_embedding[\n",
      "__________________________________________________________________________________________________\n",
      "flatten5 (Flatten)              (None, 6)            0           clean_categories_embedding[0][0] \n",
      "__________________________________________________________________________________________________\n",
      "flatten6 (Flatten)              (None, 12)           0           clean_subcategories_embedding[0][\n",
      "__________________________________________________________________________________________________\n",
      "numerical_dense_layer (Dense)   (None, 8)            24          numerical_feature[0][0]          \n",
      "__________________________________________________________________________________________________\n",
      "concatenation (Concatenate)     (None, 45038)        0           flatten1[0][0]                   \n",
      "                                                                 flatten2[0][0]                   \n",
      "                                                                 flatten3[0][0]                   \n",
      "                                                                 flatten4[0][0]                   \n",
      "                                                                 flatten5[0][0]                   \n",
      "                                                                 flatten6[0][0]                   \n",
      "                                                                 numerical_dense_layer[0][0]      \n",
      "__________________________________________________________________________________________________\n",
      "dense_layer_1 (Dense)           (None, 256)          11529984    concatenation[0][0]              \n",
      "__________________________________________________________________________________________________\n",
      "BN_1 (BatchNormalization)       (None, 256)          1024        dense_layer_1[0][0]              \n",
      "__________________________________________________________________________________________________\n",
      "activation1 (Activation)        (None, 256)          0           BN_1[0][0]                       \n",
      "__________________________________________________________________________________________________\n",
      "dropout1 (Dropout)              (None, 256)          0           activation1[0][0]                \n",
      "__________________________________________________________________________________________________\n",
      "dense_layer_2 (Dense)           (None, 128)          32896       dropout1[0][0]                   \n",
      "__________________________________________________________________________________________________\n",
      "BN_2 (BatchNormalization)       (None, 128)          512         dense_layer_2[0][0]              \n",
      "__________________________________________________________________________________________________\n",
      "activation2 (Activation)        (None, 128)          0           BN_2[0][0]                       \n",
      "__________________________________________________________________________________________________\n",
      "dropout2 (Dropout)              (None, 128)          0           activation2[0][0]                \n",
      "__________________________________________________________________________________________________\n",
      "dense_layer3 (Dense)            (None, 64)           8256        dropout2[0][0]                   \n",
      "__________________________________________________________________________________________________\n",
      "BN_3 (BatchNormalization)       (None, 64)           256         dense_layer3[0][0]               \n",
      "__________________________________________________________________________________________________\n",
      "activartion3 (Activation)       (None, 64)           0           BN_3[0][0]                       \n",
      "__________________________________________________________________________________________________\n",
      "output_layer (Dense)            (None, 1)            65          activartion3[0][0]               \n",
      "==================================================================================================\n",
      "Total params: 19,495,381\n",
      "Trainable params: 11,843,285\n",
      "Non-trainable params: 7,652,096\n",
      "__________________________________________________________________________________________________\n",
      "None\n"
     ]
    }
   ],
   "source": [
    "#clearing the graph\n",
    "keras.backend.clear_session()\n",
    "\n",
    "# text input, max_len_essay\n",
    "text_input = Input(shape = (encoded_essay_train.shape[1], ), name = 'Essay_text_input')\n",
    "text_essay_embedding = Embedding(input_dim = vocab_size2, output_dim = 300, \n",
    "                                 weights=[embedding_matrix2], input_length = max_len_text, \n",
    "                                 trainable = False, name = 'essay_embedding')(text_input)\n",
    "#LSTM layer\n",
    "lstm = LSTM(units = 150, dropout = 0.2, recurrent_dropout = 0.2, \n",
    "             kernel_regularizer = keras.regularizers.l2(0.001), return_sequences=True)(text_essay_embedding)\n",
    "flatten1 = Flatten(name = 'flatten1')(lstm)\n",
    "\n",
    "# school_state input\n",
    "state_input = Input(shape = (school_state_train.shape[1], ), name = 'school_state')\n",
    "state_embedding = Embedding(input_dim = len1, output_dim = 8, input_length = school_state_train.shape[1], \n",
    "                            name = 'school_state_embedding')(state_input)\n",
    "flatten2 = Flatten(name = 'flatten2')(state_embedding)\n",
    "\n",
    "# teacher_prefix input\n",
    "teacher_prefix_input = Input(shape = (teacher_prefix_train.shape[1], ), name = 'teacher_prefix')\n",
    "teacher_prefix_embedding = Embedding(input_dim = len2, output_dim = 2, input_length = teacher_prefix_train.shape[1], \n",
    "                            name = 'teacher_prefix_embedding')(teacher_prefix_input)\n",
    "flatten3 = Flatten(name = 'flatten3')(teacher_prefix_embedding)\n",
    "\n",
    "# project_grade_category input\n",
    "project_grade_category_input = Input(shape = (project_grade_category_train.shape[1], ), name = 'project_grade_category')\n",
    "project_grade_category_embedding = Embedding(input_dim = len3, output_dim = 2, input_length = project_grade_category_train.shape[1], \n",
    "                            name = 'project_grade_category_embedding')(project_grade_category_input)\n",
    "flatten4 = Flatten(name = 'flatten4')(project_grade_category_embedding)\n",
    "\n",
    "# clean_categories input\n",
    "clean_categories_input = Input(shape = (clean_categories_train.shape[1], ), name = 'clean_categories')\n",
    "clean_categories_embedding = Embedding(input_dim = len4, output_dim = 2, input_length = clean_categories_train.shape[1], \n",
    "                            name = 'clean_categories_embedding')(clean_categories_input)\n",
    "flatten5 = Flatten(name = 'flatten5')(clean_categories_embedding)\n",
    "\n",
    "# clean_subcategories input\n",
    "clean_subcategories_input = Input(shape = (clean_subcategories_train.shape[1], ), name = 'clean_subcategories')\n",
    "clean_subcategories_embedding = Embedding(input_dim = len5, output_dim = 4, input_length = clean_subcategories_train.shape[1], \n",
    "                            name = 'clean_subcategories_embedding')(clean_subcategories_input)\n",
    "flatten6 = Flatten(name = 'flatten6')(clean_subcategories_embedding)\n",
    "\n",
    "# numerical feature input\n",
    "numerical_input = Input(shape = (numerical_features_train.shape[1], ), name = 'numerical_feature')\n",
    "# dense layer\n",
    "numerical_dens = Dense(units = 8, activation = 'relu', kernel_initializer = 'he_normal', \n",
    "                        kernel_regularizer = keras.regularizers.l2(0.001), name = 'numerical_dense_layer')(numerical_input)\n",
    "\n",
    "concat = concatenate(inputs = [flatten1, flatten2, flatten3, flatten4, flatten5, flatten6, numerical_dens], name = 'concatenation')\n",
    "\n",
    "# Dense layer\n",
    "X = Dense(units = 256, kernel_initializer = 'he_normal', \n",
    "           kernel_regularizer = keras.regularizers.l2(0.001), name = 'dense_layer_1')(concat)\n",
    "X = BatchNormalization(name = 'BN_1')(X)\n",
    "X = Activation('relu', name = 'activation1')(X)\n",
    "X = Dropout(0.4, name = 'dropout1')(X)\n",
    "\n",
    "# Dense layer\n",
    "X = Dense(units = 128, kernel_initializer = 'he_normal',\n",
    "           kernel_regularizer = keras.regularizers.l2(0.001), name = 'dense_layer_2')(X)\n",
    "X = BatchNormalization(name = 'BN_2')(X)\n",
    "X = Activation('relu', name = 'activation2')(X)\n",
    "X = Dropout(0.4, name = 'dropout2')(X)\n",
    "\n",
    "# Dense layer\n",
    "X = Dense(units = 64, kernel_initializer = 'he_normal', \n",
    "           kernel_regularizer = keras.regularizers.l2(0.001), name = 'dense_layer3')(X)\n",
    "X = BatchNormalization(name = 'BN_3')(X)\n",
    "X = Activation('relu', name = 'activartion3')(X)\n",
    "\n",
    "#output layer\n",
    "X = Dense(units = 1, activation = 'sigmoid', \n",
    "          kernel_regularizer = keras.regularizers.l2(0.001), name = 'output_layer')(X)\n",
    "\n",
    "model2 = Model(inputs = [text_input, state_input, teacher_prefix_input, project_grade_category_input, clean_categories_input,\n",
    "                        clean_subcategories_input, numerical_input], outputs = X, name = 'Model_2')\n",
    "print(model2.summary())"
   ]
  },
  {
   "cell_type": "code",
   "execution_count": 69,
   "metadata": {
    "colab": {
     "base_uri": "https://localhost:8080/",
     "height": 1000
    },
    "colab_type": "code",
    "id": "5U_amdFYL0i-",
    "outputId": "a2db490c-8f5b-4779-a501-4eb5add26056"
   },
   "outputs": [
    {
     "name": "stdout",
     "output_type": "stream",
     "text": [
      "Train on 87398 samples, validate on 10925 samples\n",
      "Epoch 1/100\n",
      "87398/87398 [==============================] - 101s 1ms/step - loss: 1.1347 - auc: 0.6151 - val_loss: 0.7976 - val_auc: 0.6800\n",
      "\n",
      "Epoch 00001: val_auc improved from -inf to 0.67999, saving model to Model_2.h5\n",
      "Epoch 2/100\n",
      "87398/87398 [==============================] - 98s 1ms/step - loss: 0.6753 - auc: 0.6814 - val_loss: 0.6424 - val_auc: 0.7045\n",
      "\n",
      "Epoch 00002: val_auc improved from 0.67999 to 0.70449, saving model to Model_2.h5\n",
      "Epoch 3/100\n",
      "87398/87398 [==============================] - 98s 1ms/step - loss: 0.5718 - auc: 0.7027 - val_loss: 0.5444 - val_auc: 0.7146\n",
      "\n",
      "Epoch 00003: val_auc improved from 0.70449 to 0.71455, saving model to Model_2.h5\n",
      "Epoch 4/100\n",
      "87398/87398 [==============================] - 98s 1ms/step - loss: 0.5130 - auc: 0.7209 - val_loss: 0.4891 - val_auc: 0.7286\n",
      "\n",
      "Epoch 00004: val_auc improved from 0.71455 to 0.72861, saving model to Model_2.h5\n",
      "Epoch 5/100\n",
      "87398/87398 [==============================] - 98s 1ms/step - loss: 0.4779 - auc: 0.7322 - val_loss: 0.4679 - val_auc: 0.7359\n",
      "\n",
      "Epoch 00005: val_auc improved from 0.72861 to 0.73586, saving model to Model_2.h5\n",
      "Epoch 6/100\n",
      "87398/87398 [==============================] - 98s 1ms/step - loss: 0.4574 - auc: 0.7398 - val_loss: 0.4549 - val_auc: 0.7299\n",
      "\n",
      "Epoch 00006: val_auc did not improve from 0.73586\n",
      "Epoch 7/100\n",
      "87398/87398 [==============================] - 98s 1ms/step - loss: 0.4443 - auc: 0.7424 - val_loss: 0.4673 - val_auc: 0.7405\n",
      "\n",
      "Epoch 00007: val_auc improved from 0.73586 to 0.74047, saving model to Model_2.h5\n",
      "Epoch 8/100\n",
      "87398/87398 [==============================] - 98s 1ms/step - loss: 0.4331 - auc: 0.7451 - val_loss: 0.4336 - val_auc: 0.7382\n",
      "\n",
      "Epoch 00008: val_auc did not improve from 0.74047\n",
      "Epoch 9/100\n",
      "87398/87398 [==============================] - 98s 1ms/step - loss: 0.4279 - auc: 0.7462 - val_loss: 0.4274 - val_auc: 0.7319\n",
      "\n",
      "Epoch 00009: val_auc did not improve from 0.74047\n",
      "Epoch 10/100\n",
      "87398/87398 [==============================] - 98s 1ms/step - loss: 0.4215 - auc: 0.7469 - val_loss: 0.4202 - val_auc: 0.7402\n",
      "\n",
      "Epoch 00010: val_auc did not improve from 0.74047\n",
      "Epoch 11/100\n",
      "87398/87398 [==============================] - 97s 1ms/step - loss: 0.4195 - auc: 0.7497 - val_loss: 0.4234 - val_auc: 0.7313\n",
      "\n",
      "Epoch 00011: val_auc did not improve from 0.74047\n",
      "Epoch 12/100\n",
      "87398/87398 [==============================] - 98s 1ms/step - loss: 0.4153 - auc: 0.7518 - val_loss: 0.4443 - val_auc: 0.7441\n",
      "\n",
      "Epoch 00012: val_auc improved from 0.74047 to 0.74407, saving model to Model_2.h5\n",
      "Epoch 13/100\n",
      "87398/87398 [==============================] - 98s 1ms/step - loss: 0.4123 - auc: 0.7510 - val_loss: 0.4180 - val_auc: 0.7299\n",
      "\n",
      "Epoch 00013: val_auc did not improve from 0.74407\n",
      "Epoch 14/100\n",
      "87398/87398 [==============================] - 97s 1ms/step - loss: 0.4099 - auc: 0.7546 - val_loss: 0.4249 - val_auc: 0.7316\n",
      "\n",
      "Epoch 00014: val_auc did not improve from 0.74407\n",
      "Epoch 15/100\n",
      "87398/87398 [==============================] - 98s 1ms/step - loss: 0.4113 - auc: 0.7523 - val_loss: 0.4479 - val_auc: 0.7420\n",
      "\n",
      "Epoch 00015: val_auc did not improve from 0.74407\n",
      "Epoch 16/100\n",
      "87398/87398 [==============================] - 98s 1ms/step - loss: 0.4102 - auc: 0.7524 - val_loss: 0.4328 - val_auc: 0.7382\n",
      "\n",
      "Epoch 00016: val_auc did not improve from 0.74407\n",
      "Epoch 17/100\n",
      "87398/87398 [==============================] - 97s 1ms/step - loss: 0.4084 - auc: 0.7565 - val_loss: 0.4537 - val_auc: 0.7156\n",
      "\n",
      "Epoch 00017: val_auc did not improve from 0.74407\n",
      "Epoch 18/100\n",
      "87398/87398 [==============================] - 97s 1ms/step - loss: 0.4096 - auc: 0.7549 - val_loss: 0.4266 - val_auc: 0.7404\n",
      "\n",
      "Epoch 00018: val_auc did not improve from 0.74407\n",
      "Epoch 19/100\n",
      "87398/87398 [==============================] - 98s 1ms/step - loss: 0.4081 - auc: 0.7568 - val_loss: 0.5461 - val_auc: 0.6527\n",
      "\n",
      "Epoch 00019: val_auc did not improve from 0.74407\n",
      "Epoch 20/100\n",
      "87398/87398 [==============================] - 98s 1ms/step - loss: 0.4085 - auc: 0.7577 - val_loss: 0.4533 - val_auc: 0.7287\n",
      "\n",
      "Epoch 00020: val_auc did not improve from 0.74407\n",
      "Epoch 21/100\n",
      "87398/87398 [==============================] - 97s 1ms/step - loss: 0.4084 - auc: 0.7581 - val_loss: 0.4373 - val_auc: 0.7326\n",
      "\n",
      "Epoch 00021: val_auc did not improve from 0.74407\n",
      "Epoch 22/100\n",
      "87398/87398 [==============================] - 98s 1ms/step - loss: 0.4067 - auc: 0.7594 - val_loss: 0.5694 - val_auc: 0.7412\n",
      "\n",
      "Epoch 00022: val_auc did not improve from 0.74407\n",
      "Epoch 23/100\n",
      "87398/87398 [==============================] - 98s 1ms/step - loss: 0.4081 - auc: 0.7588 - val_loss: 0.4085 - val_auc: 0.7464\n",
      "\n",
      "Epoch 00023: val_auc improved from 0.74407 to 0.74644, saving model to Model_2.h5\n",
      "Epoch 24/100\n",
      "87398/87398 [==============================] - 97s 1ms/step - loss: 0.4049 - auc: 0.7591 - val_loss: 0.5949 - val_auc: 0.7276\n",
      "\n",
      "Epoch 00024: val_auc did not improve from 0.74644\n",
      "Epoch 25/100\n",
      "87398/87398 [==============================] - 98s 1ms/step - loss: 0.4061 - auc: 0.7611 - val_loss: 0.4091 - val_auc: 0.7441\n",
      "\n",
      "Epoch 00025: val_auc did not improve from 0.74644\n",
      "Epoch 26/100\n",
      "87398/87398 [==============================] - 98s 1ms/step - loss: 0.4040 - auc: 0.7602 - val_loss: 0.4383 - val_auc: 0.7463\n",
      "\n",
      "Epoch 00026: val_auc did not improve from 0.74644\n",
      "Epoch 27/100\n",
      "87398/87398 [==============================] - 97s 1ms/step - loss: 0.4049 - auc: 0.7624 - val_loss: 0.4542 - val_auc: 0.7343\n",
      "\n",
      "Epoch 00027: val_auc did not improve from 0.74644\n",
      "Epoch 28/100\n",
      "87398/87398 [==============================] - 97s 1ms/step - loss: 0.4073 - auc: 0.7612 - val_loss: 0.4464 - val_auc: 0.7477\n",
      "\n",
      "Epoch 00028: val_auc improved from 0.74644 to 0.74772, saving model to Model_2.h5\n",
      "Epoch 29/100\n",
      "87398/87398 [==============================] - 98s 1ms/step - loss: 0.4050 - auc: 0.7617 - val_loss: 0.4242 - val_auc: 0.7381\n",
      "\n",
      "Epoch 00029: val_auc did not improve from 0.74772\n",
      "Epoch 30/100\n",
      "87398/87398 [==============================] - 97s 1ms/step - loss: 0.4054 - auc: 0.7628 - val_loss: 0.4342 - val_auc: 0.7481\n",
      "\n",
      "Epoch 00030: val_auc improved from 0.74772 to 0.74814, saving model to Model_2.h5\n",
      "Epoch 31/100\n",
      "87398/87398 [==============================] - 98s 1ms/step - loss: 0.4065 - auc: 0.7642 - val_loss: 0.4122 - val_auc: 0.7436\n",
      "\n",
      "Epoch 00031: val_auc did not improve from 0.74814\n",
      "Epoch 32/100\n",
      "87398/87398 [==============================] - 97s 1ms/step - loss: 0.4049 - auc: 0.7639 - val_loss: 0.5447 - val_auc: 0.7350\n",
      "\n",
      "Epoch 00032: val_auc did not improve from 0.74814\n",
      "Epoch 33/100\n",
      "87398/87398 [==============================] - 98s 1ms/step - loss: 0.4066 - auc: 0.7648 - val_loss: 0.5202 - val_auc: 0.7412\n",
      "\n",
      "Epoch 00033: val_auc did not improve from 0.74814\n",
      "Epoch 34/100\n",
      "87398/87398 [==============================] - 98s 1ms/step - loss: 0.4056 - auc: 0.7679 - val_loss: 0.4467 - val_auc: 0.7262\n",
      "\n",
      "Epoch 00034: val_auc did not improve from 0.74814\n",
      "Epoch 35/100\n",
      "87398/87398 [==============================] - 98s 1ms/step - loss: 0.4064 - auc: 0.7673 - val_loss: 0.4269 - val_auc: 0.7408\n",
      "\n",
      "Epoch 00035: val_auc did not improve from 0.74814\n",
      "Epoch 36/100\n",
      "87398/87398 [==============================] - 98s 1ms/step - loss: 0.4056 - auc: 0.7659 - val_loss: 0.4190 - val_auc: 0.7390\n",
      "\n",
      "Epoch 00036: val_auc did not improve from 0.74814\n",
      "Epoch 37/100\n",
      "87398/87398 [==============================] - 97s 1ms/step - loss: 0.4072 - auc: 0.7683 - val_loss: 0.4708 - val_auc: 0.7395\n",
      "\n",
      "Epoch 00037: val_auc did not improve from 0.74814\n",
      "Epoch 38/100\n",
      "87398/87398 [==============================] - 98s 1ms/step - loss: 0.4063 - auc: 0.7692 - val_loss: 0.4852 - val_auc: 0.7479\n",
      "\n",
      "Epoch 00038: val_auc did not improve from 0.74814\n",
      "Epoch 00038: early stopping\n"
     ]
    }
   ],
   "source": [
    "es = EarlyStopping(monitor = 'val_loss', mode = 'min', min_delta = 0.001, patience = 15, verbose = 1)\n",
    "mc = ModelCheckpoint(\"Model_2.h5\", monitor = \"val_auc\", mode = 'max', save_best_only = True, verbose = 1)\n",
    "model2.compile(optimizer = 'adam', loss = 'binary_crossentropy', metrics = [auc])\n",
    "\n",
    "history = model2.fit([encoded_essay_train, school_state_train, teacher_prefix_train, \n",
    "                     project_grade_category_train, clean_categories_train, clean_subcategories_train,\n",
    "                     numerical_features_train], y_train,\n",
    "                    validation_data = ([encoded_essay_cv, school_state_cv, teacher_prefix_cv,\n",
    "                                        project_grade_category_cv, clean_categories_cv,\n",
    "                                        clean_subcategories_cv, numerical_features_cv], y_cv),\n",
    "                    epochs = 100, batch_size = 1024, callbacks = [es, mc],verbose = 1)\n",
    "del model2"
   ]
  },
  {
   "cell_type": "code",
   "execution_count": 70,
   "metadata": {
    "colab": {
     "base_uri": "https://localhost:8080/",
     "height": 408
    },
    "colab_type": "code",
    "id": "amAGCi8VHVdy",
    "outputId": "a996e8bc-5714-4904-be60-dd170ab8f5b4"
   },
   "outputs": [
    {
     "data": {
      "image/png": "[encoded data removed]",
      "text/plain": [
       "<Figure size 1368x432 with 2 Axes>"
      ]
     },
     "metadata": {
      "tags": []
     },
     "output_type": "display_data"
    }
   ],
   "source": [
    "plot_history(history)"
   ]
  },
  {
   "cell_type": "code",
   "execution_count": 71,
   "metadata": {
    "colab": {
     "base_uri": "https://localhost:8080/",
     "height": 34
    },
    "colab_type": "code",
    "id": "deHXjaiyOpAY",
    "outputId": "9419ac0b-adfa-4b00-d567-ea594cc49613"
   },
   "outputs": [
    {
     "name": "stdout",
     "output_type": "stream",
     "text": [
      "Drive already mounted at /content/drive; to attempt to forcibly remount, call drive.mount(\"/content/drive\", force_remount=True).\n"
     ]
    }
   ],
   "source": [
    "from google.colab import drive\n",
    "drive.mount('/content/drive')"
   ]
  },
  {
   "cell_type": "code",
   "execution_count": 72,
   "metadata": {
    "colab": {
     "base_uri": "https://localhost:8080/",
     "height": 187
    },
    "colab_type": "code",
    "id": "XMCOXtM6Yq5D",
    "outputId": "6b4b5095-1c3b-4627-e740-044dd9aacca6"
   },
   "outputs": [
    {
     "name": "stdout",
     "output_type": "stream",
     "text": [
      "\n",
      "Loadingg the model..\n",
      "Evaluating model...\n",
      "For train data...\n",
      "87398/87398 [==============================] - 54s 613us/step\n",
      "For test data...\n",
      "10925/10925 [==============================] - 7s 618us/step\n",
      "\n",
      "For training data: Loss = 0.4178 and AUC = 0.7868\n",
      "For test data: Loss = 0.4641 and AUC = 0.7377\n"
     ]
    }
   ],
   "source": [
    "# custom metric error during loading the model\n",
    "print(\"\\nLoadingg the model..\")\n",
    "\n",
    "if os.path.isfile(d+\"Donor-Choose/Model_2.h5\"):\n",
    "    model2 = load_model(d+\"Donor-Choose/Model_2.h5\", custom_objects = {\"auc\": auc})\n",
    "else:\n",
    "    #move the saved model to dirve\n",
    "    !cp \"/content/Model_2.h5\" \"/content/drive/My Drive/Colab Notebooks/Dataset/Google_Word2Vec/Donor-Choose\"\n",
    "    model2 = load_model(\"Model_2.h5\", custom_objects = {\"auc\":auc})\n",
    "    \n",
    "print(\"Evaluating model...\")\n",
    "print(\"For train data...\")\n",
    "score1 = model2.evaluate([encoded_essay_train, school_state_train, teacher_prefix_train, \n",
    "                     project_grade_category_train, clean_categories_train, clean_subcategories_train,\n",
    "                     numerical_features_train], y_train, batch_size = 512)\n",
    "\n",
    "print(\"For test data...\")\n",
    "score2 = model2.evaluate([encoded_essay_test, school_state_test, teacher_prefix_test, \n",
    "                     project_grade_category_test, clean_categories_test, clean_subcategories_test,\n",
    "                     numerical_features_test], y_test, batch_size = 512)\n",
    "\n",
    "print(\"\\nFor training data: Loss = {:.4} and AUC = {:.4}\\nFor test data: Loss = {:.4} and AUC = {:.4}\"\n",
    "      .format(score1[0], score1[1], score2[0], score2[1]))\n",
    "table.add_row([\"Model 2\", round(score1[0], 4), round(score1[1], 4), round(score2[0], 4), round(score2[1], 4)])"
   ]
  },
  {
   "cell_type": "markdown",
   "metadata": {
    "colab_type": "text",
    "id": "YB0Dq8l4RMRk"
   },
   "source": [
    "# 3. Model 3"
   ]
  },
  {
   "cell_type": "markdown",
   "metadata": {
    "colab_type": "text",
    "id": "az_vaHJ4RsZY"
   },
   "source": [
    "**Architecture**\n",
    "\n",
    "<img src = \"https://i.imgur.com/Q2qVPld.jpg\">\n",
    "\n",
    "Source: appliedaicourse.com\n"
   ]
  },
  {
   "cell_type": "markdown",
   "metadata": {
    "colab_type": "text",
    "id": "HKH6dIqBT0gJ"
   },
   "source": [
    "## 3.1 Text data"
   ]
  },
  {
   "cell_type": "code",
   "execution_count": 73,
   "metadata": {
    "colab": {
     "base_uri": "https://localhost:8080/",
     "height": 0
    },
    "colab_type": "code",
    "id": "eM5tiIjuT6XE",
    "outputId": "2275253c-eb0c-4c09-949c-8f57c752d18e"
   },
   "outputs": [
    {
     "name": "stdout",
     "output_type": "stream",
     "text": [
      "Shape of train, cv and test essay features are: (87398, 400), (10925, 400), (10925, 400)\n"
     ]
    }
   ],
   "source": [
    "# pre-trained embedding: https://machinelearningmastery.com/use-word-embedding-layers-deep-learning-keras/\n",
    "tokens = Tokenizer()\n",
    "tokens.fit_on_texts(x_train[\"essay\"].values)\n",
    "\n",
    "# encoding text of essay features of train, cv and test data\n",
    "encoded_essay_train = tokens.texts_to_sequences(x_train[\"essay\"].values)\n",
    "encoded_essay_cv    = tokens.texts_to_sequences(x_cv[\"essay\"].values)\n",
    "encoded_essay_test  = tokens.texts_to_sequences(x_test[\"essay\"].values)\n",
    "\n",
    "# gettting the length of unique words in train data, and adding (+1) becasue of zeros padding and words are encoded from 1 to n \n",
    "vocab_size1 = len(tokens.word_index) + 1\n",
    "\n",
    "max_len_essay = 400 #max([len(i.split()) for i in x_train[\"essay\"].values])\n",
    "# padding the encoded data to make each datapoint of same dimension\n",
    "encoded_essay_train = pad_sequences(encoded_essay_train, maxlen = max_len_essay, padding = 'post', truncating = 'post')\n",
    "encoded_essay_cv    = pad_sequences(encoded_essay_cv, maxlen = max_len_essay, padding = 'post', truncating = 'post')\n",
    "encoded_essay_test  = pad_sequences(encoded_essay_test, maxlen = max_len_essay, padding = 'post', truncating = 'post')\n",
    "\n",
    "print(\"Shape of train, cv and test {} features are: {}, {}, {}\"\n",
    "         .format('essay', encoded_essay_train.shape, encoded_essay_cv.shape, encoded_essay_test.shape))\n",
    "\n",
    "# below array will be used in Embedding layer\n",
    "embedding_matrix1 = np.zeros((vocab_size1, 300), dtype = 'float32')\n",
    "for word, index in tokens.word_index.items():\n",
    "    embedding_vector = glove_dict.get(word)\n",
    "    if embedding_vector is not None:\n",
    "        embedding_matrix1[index] = embedding_vector"
   ]
  },
  {
   "cell_type": "markdown",
   "metadata": {
    "colab_type": "text",
    "id": "LJ3_mJvuT3e2"
   },
   "source": [
    "## 3.2 Other than text data"
   ]
  },
  {
   "cell_type": "markdown",
   "metadata": {
    "colab_type": "text",
    "id": "IGzuZedMhcGV"
   },
   "source": [
    "### 3.2.1 Categorical Features"
   ]
  },
  {
   "cell_type": "code",
   "execution_count": 74,
   "metadata": {
    "colab": {
     "base_uri": "https://localhost:8080/",
     "height": 0
    },
    "colab_type": "code",
    "id": "slICf3o5PLcp",
    "outputId": "4b72684f-121c-4c4c-b7a2-3d8555fcb331"
   },
   "outputs": [
    {
     "name": "stdout",
     "output_type": "stream",
     "text": [
      "Shape of school_state after one-hot encoding: Train = (87398, 51), CV = (10925, 51), Test = (10925, 51)\n",
      "Shape of teacher_prefix after one-hot encoding: Train = (87398, 5), CV = (10925, 5), Test = (10925, 5)\n",
      "Shape of project_grade_category after one-hot encoding: Train = (87398, 4), CV = (10925, 4), Test = (10925, 4)\n",
      "Shape of clean_categories after one-hot encoding: Train = (87398, 9), CV = (10925, 9), Test = (10925, 9)\n",
      "Shape of clean_subcategories after one-hot encoding: Train = (87398, 30), CV = (10925, 30), Test = (10925, 30)\n"
     ]
    }
   ],
   "source": [
    "from sklearn.feature_extraction.text import CountVectorizer\n",
    "vectorizer = CountVectorizer()\n",
    "\n",
    "#school_state feature\n",
    "school_state_train = vectorizer.fit_transform(x_train['school_state'].values)\n",
    "school_state_cv    = vectorizer.transform(x_cv['school_state'].values)\n",
    "school_state_test  = vectorizer.transform(x_test['school_state'].values)\n",
    "print(\"Shape of school_state after one-hot encoding: Train = {}, CV = {}, Test = {}\"\n",
    "      .format(school_state_train.shape, school_state_cv.shape, school_state_test.shape))\n",
    "\n",
    "# teacher_prefix\n",
    "teacher_prefix_train = vectorizer.fit_transform(x_train['teacher_prefix'].values)\n",
    "teacher_prefix_cv    = vectorizer.transform(x_cv['teacher_prefix'].values)\n",
    "teacher_prefix_test  = vectorizer.transform(x_test['teacher_prefix'].values)\n",
    "print(\"Shape of teacher_prefix after one-hot encoding: Train = {}, CV = {}, Test = {}\"\n",
    "      .format(teacher_prefix_train.shape, teacher_prefix_cv.shape, teacher_prefix_test.shape))\n",
    "\n",
    "# project_grade_category\n",
    "project_grade_category_train = vectorizer.fit_transform(x_train['project_grade_category'].values)\n",
    "project_grade_category_cv    = vectorizer.transform(x_cv['project_grade_category'].values)\n",
    "project_grade_category_test  = vectorizer.transform(x_test['project_grade_category'].values)\n",
    "print(\"Shape of project_grade_category after one-hot encoding: Train = {}, CV = {}, Test = {}\"\n",
    "      .format(project_grade_category_train.shape, project_grade_category_cv.shape, project_grade_category_test.shape))\n",
    "\n",
    "# clean_categories\n",
    "clean_categories_train = vectorizer.fit_transform(x_train['clean_categories'].values)\n",
    "clean_categories_cv    = vectorizer.transform(x_cv['clean_categories'].values)\n",
    "clean_categories_test  = vectorizer.transform(x_test['clean_categories'].values)\n",
    "print(\"Shape of clean_categories after one-hot encoding: Train = {}, CV = {}, Test = {}\"\n",
    "      .format(clean_categories_train.shape, clean_categories_cv.shape, clean_categories_test.shape))\n",
    "\n",
    "# clean_subcategories\n",
    "clean_subcategories_train = vectorizer.fit_transform(x_train['clean_subcategories'].values)\n",
    "clean_subcategories_cv    = vectorizer.transform(x_cv['clean_subcategories'].values)\n",
    "clean_subcategories_test  = vectorizer.transform(x_test['clean_subcategories'].values)\n",
    "print(\"Shape of clean_subcategories after one-hot encoding: Train = {}, CV = {}, Test = {}\"\n",
    "      .format(clean_subcategories_train.shape, clean_subcategories_cv.shape, clean_subcategories_test.shape))"
   ]
  },
  {
   "cell_type": "markdown",
   "metadata": {
    "colab_type": "text",
    "id": "PGC0w3YakjmB"
   },
   "source": [
    "### 3.2.2 Numerical Features"
   ]
  },
  {
   "cell_type": "code",
   "execution_count": 75,
   "metadata": {
    "colab": {
     "base_uri": "https://localhost:8080/",
     "height": 0
    },
    "colab_type": "code",
    "id": "hcTesM9GWHys",
    "outputId": "d5431d3c-dd1b-451a-a6d9-c6644b474825"
   },
   "outputs": [
    {
     "name": "stdout",
     "output_type": "stream",
     "text": [
      "Shape of numerical features: Train = (87398, 2), CV = (10925, 2), and Test = (10925, 2)\n"
     ]
    }
   ],
   "source": [
    "print(\"Shape of numerical features: Train = {}, CV = {}, and Test = {}\"\n",
    "      .format(numerical_features_train.shape, numerical_features_cv.shape, numerical_features_test.shape))"
   ]
  },
  {
   "cell_type": "markdown",
   "metadata": {
    "colab_type": "text",
    "id": "DO_epVX2lE9c"
   },
   "source": [
    "### 3.2.3 Concatenating Non-text data"
   ]
  },
  {
   "cell_type": "code",
   "execution_count": 76,
   "metadata": {
    "colab": {
     "base_uri": "https://localhost:8080/",
     "height": 0
    },
    "colab_type": "code",
    "id": "gQgLmk8fk8hc",
    "outputId": "d1350ecd-056f-4c10-e4f7-e6d8a8bc69a2"
   },
   "outputs": [
    {
     "name": "stdout",
     "output_type": "stream",
     "text": [
      "There are 51 dimensions in school_state, 5 dimensions in teacher_prefix,\n",
      "      4 dimensions in project_grade_category, 9 dimensions in clean_categories,\n",
      "      30 dimensions in clean_subcategories and 2 dimensions in numerical feature\n",
      "      So there will total 101 features after concatenation.\n",
      "Shape of non_text data: Train = (87398, 101), CV = (10925, 101) and Test = (10925, 101)\n",
      "\n",
      "After converting sparse to dense and changing the shape of non_text data\n",
      "Shape of non_text data: Train = (87398, 101, 1), CV = (10925, 101, 1) and Test = (10925, 101, 1)\n"
     ]
    }
   ],
   "source": [
    "print(\"There are {} dimensions in school_state, {} dimensions in teacher_prefix,\\n\\\n",
    "      {} dimensions in project_grade_category, {} dimensions in clean_categories,\\n\\\n",
    "      {} dimensions in clean_subcategories and {} dimensions in numerical feature\\n\\\n",
    "      So there will total {} features after concatenation.\"\n",
    "      .format(school_state_cv.shape[1], teacher_prefix_cv.shape[1], project_grade_category_cv.shape[1],\n",
    "             clean_categories_cv.shape[1], clean_subcategories_cv.shape[1], numerical_features_cv.shape[1],\n",
    "              (school_state_cv.shape[1]  + teacher_prefix_cv.shape[1] + project_grade_category_cv.shape[1] \n",
    "               + clean_categories_cv.shape[1] + clean_subcategories_cv.shape[1]+numerical_features_cv.shape[1])))\n",
    "\n",
    "# concatenating sparse and dense matrix:\n",
    "# https://docs.scipy.org/doc/scipy/reference/generated/scipy.sparse.hstack.html\n",
    "non_text_train = scipy.sparse.hstack([school_state_train, teacher_prefix_train, \n",
    "                                      project_grade_category_train, clean_categories_train,\n",
    "                                      clean_subcategories_train, numerical_features_train])\n",
    "\n",
    "non_text_cv = scipy.sparse.hstack([school_state_cv, teacher_prefix_cv, \n",
    "                                      project_grade_category_cv, clean_categories_cv,\n",
    "                                      clean_subcategories_cv, numerical_features_cv])\n",
    "\n",
    "non_text_test = scipy.sparse.hstack([school_state_test, teacher_prefix_test, \n",
    "                                      project_grade_category_test, clean_categories_test,\n",
    "                                      clean_subcategories_test, numerical_features_test])\n",
    "\n",
    "print(\"Shape of non_text data: Train = {}, CV = {} and Test = {}\".format(non_text_train.shape,\n",
    "                                                                        non_text_cv.shape, non_text_test.shape))\n",
    "\n",
    "print(\"\\nAfter converting sparse to dense and changing the shape of non_text data\")\n",
    "# scipy.sparse.coo.coo_matrix to dense matrix and then changing the shape of\n",
    "# so that data is compatble with Conv1D\n",
    "non_text_train = non_text_train.toarray().reshape(non_text_train.shape[0], non_text_train.shape[1], 1)\n",
    "non_text_cv    = non_text_cv.toarray().reshape(non_text_cv.shape[0], non_text_cv.shape[1], 1)\n",
    "non_text_test  = non_text_test.toarray().reshape(non_text_test.shape[0], non_text_test.shape[1], 1)\n",
    "print(\"Shape of non_text data: Train = {}, CV = {} and Test = {}\".format(non_text_train.shape,\n",
    "                                                                        non_text_cv.shape, non_text_test.shape))"
   ]
  },
  {
   "cell_type": "markdown",
   "metadata": {
    "colab_type": "text",
    "id": "E4Td0R5bmfRh"
   },
   "source": [
    "## 3.3 Model Training and Evaluating"
   ]
  },
  {
   "cell_type": "code",
   "execution_count": 77,
   "metadata": {
    "colab": {
     "base_uri": "https://localhost:8080/",
     "height": 901
    },
    "colab_type": "code",
    "id": "B60y5i_zoNEs",
    "outputId": "1156c745-c85d-434a-b5bf-9982cb68a075"
   },
   "outputs": [
    {
     "name": "stdout",
     "output_type": "stream",
     "text": [
      "Model: \"Model_3\"\n",
      "__________________________________________________________________________________________________\n",
      "Layer (type)                    Output Shape         Param #     Connected to                     \n",
      "==================================================================================================\n",
      "text_input (InputLayer)         (None, 400)          0                                            \n",
      "__________________________________________________________________________________________________\n",
      "non_text_input (InputLayer)     (None, 101, 1)       0                                            \n",
      "__________________________________________________________________________________________________\n",
      "essay_embedding (Embedding)     (None, 400, 300)     15516600    text_input[0][0]                 \n",
      "__________________________________________________________________________________________________\n",
      "Conv1D_1 (Conv1D)               (None, 101, 64)      384         non_text_input[0][0]             \n",
      "__________________________________________________________________________________________________\n",
      "lstm_1 (LSTM)                   (None, 400, 150)     270600      essay_embedding[0][0]            \n",
      "__________________________________________________________________________________________________\n",
      "Conv1D_2 (Conv1D)               (None, 101, 128)     41088       Conv1D_1[0][0]                   \n",
      "__________________________________________________________________________________________________\n",
      "flatten1 (Flatten)              (None, 60000)        0           lstm_1[0][0]                     \n",
      "__________________________________________________________________________________________________\n",
      "flatten2 (Flatten)              (None, 12928)        0           Conv1D_2[0][0]                   \n",
      "__________________________________________________________________________________________________\n",
      "flatten2_flatten1_concat (Conca (None, 72928)        0           flatten1[0][0]                   \n",
      "                                                                 flatten2[0][0]                   \n",
      "__________________________________________________________________________________________________\n",
      "dense_1 (Dense)                 (None, 256)          18669824    flatten2_flatten1_concat[0][0]   \n",
      "__________________________________________________________________________________________________\n",
      "BN_1 (BatchNormalization)       (None, 256)          1024        dense_1[0][0]                    \n",
      "__________________________________________________________________________________________________\n",
      "relu1 (Activation)              (None, 256)          0           BN_1[0][0]                       \n",
      "__________________________________________________________________________________________________\n",
      "dropout_1 (Dropout)             (None, 256)          0           relu1[0][0]                      \n",
      "__________________________________________________________________________________________________\n",
      "dense_2 (Dense)                 (None, 128)          32896       dropout_1[0][0]                  \n",
      "__________________________________________________________________________________________________\n",
      "BN_2 (BatchNormalization)       (None, 128)          512         dense_2[0][0]                    \n",
      "__________________________________________________________________________________________________\n",
      "relu2 (Activation)              (None, 128)          0           BN_2[0][0]                       \n",
      "__________________________________________________________________________________________________\n",
      "dropout_2 (Dropout)             (None, 128)          0           relu2[0][0]                      \n",
      "__________________________________________________________________________________________________\n",
      "dense_3 (Dense)                 (None, 64)           8256        dropout_2[0][0]                  \n",
      "__________________________________________________________________________________________________\n",
      "BN_3 (BatchNormalization)       (None, 64)           256         dense_3[0][0]                    \n",
      "__________________________________________________________________________________________________\n",
      "relu3 (Activation)              (None, 64)           0           BN_3[0][0]                       \n",
      "__________________________________________________________________________________________________\n",
      "ouput_layer (Dense)             (None, 1)            65          relu3[0][0]                      \n",
      "==================================================================================================\n",
      "Total params: 34,541,505\n",
      "Trainable params: 19,024,009\n",
      "Non-trainable params: 15,517,496\n",
      "__________________________________________________________________________________________________\n",
      "None\n"
     ]
    }
   ],
   "source": [
    "#clear graphs\n",
    "keras.backend.clear_session()\n",
    "\n",
    "# text input\n",
    "input1 = Input(shape = (encoded_essay_cv.shape[1], ), name = 'text_input')\n",
    "text_embed = Embedding(input_dim = vocab_size1, output_dim = 300, \n",
    "                                 weights=[embedding_matrix1], input_length = max_len_essay, \n",
    "                                 trainable = False, name = 'essay_embedding')(input1)\n",
    "#LSTM layer\n",
    "lstm = LSTM(units = 150, dropout = 0.2, recurrent_dropout = 0.2, \n",
    "            kernel_regularizer = keras.regularizers.l2(0.001), return_sequences=True)(text_embed)\n",
    "flatten1 = Flatten(name = 'flatten1')(lstm)\n",
    "\n",
    "# non-text input\n",
    "input2 = Input(shape = (non_text_cv.shape[1], 1, ), name='non_text_input')\n",
    "#Conv1D layer\n",
    "conv = Conv1D(filters = 64, kernel_size = (5), padding = 'same', activation = 'relu',\n",
    "              kernel_initializer = 'he_normal',  kernel_regularizer = keras.regularizers.l2(0.0001), \n",
    "              input_shape = (non_text_cv.shape[1],1), \n",
    "              data_format = 'channels_last', name = 'Conv1D_1')(input2)\n",
    "# Conv1D layer\n",
    "conv = Conv1D(filters = 128, kernel_size = (5), padding = 'same', activation = 'relu',\n",
    "              kernel_initializer = 'he_normal', kernel_regularizer = keras.regularizers.l2(0.0001), \n",
    "              name = 'Conv1D_2')(conv)\n",
    "flatten2 = Flatten(name = 'flatten2')(conv)\n",
    "\n",
    "#concatenate\n",
    "concat = concatenate(inputs = [flatten1, flatten2], name = 'flatten2_flatten1_concat')\n",
    "\n",
    "# Dense layer 1\n",
    "X = Dense(units = 256, kernel_initializer = 'he_normal', \n",
    "          kernel_regularizer = keras.regularizers.l2(0.001), name = 'dense_1')(concat)\n",
    "#batcnormalization\n",
    "X = BatchNormalization(name = 'BN_1')(X)\n",
    "X = Activation('relu', name = 'relu1')(X)\n",
    "X = Dropout(0.4)(X)\n",
    "\n",
    "# Dense layer 2\n",
    "X = Dense(units = 128, kernel_initializer = 'he_normal', \n",
    "          kernel_regularizer = keras.regularizers.l2(0.001), name = 'dense_2')(X)\n",
    "X = BatchNormalization(name = 'BN_2')(X)\n",
    "X = Activation('relu', name = 'relu2')(X)\n",
    "X = Dropout(0.4)(X)\n",
    "\n",
    "# dense layer 3\n",
    "X = Dense(units = 64, kernel_initializer = 'he_normal',\n",
    "          kernel_regularizer = keras.regularizers.l2(0.001), name = 'dense_3')(X)\n",
    "X = BatchNormalization(name = 'BN_3')(X)\n",
    "X = Activation('relu', name = 'relu3')(X)\n",
    "\n",
    "# output layer\n",
    "X = Dense(units = 1, activation = 'sigmoid', kernel_regularizer= keras.regularizers.l2(0.001),\n",
    "          name = 'ouput_layer')(X)\n",
    "\n",
    "model3 = Model(inputs = [input1, input2], outputs = X, name = 'Model_3')\n",
    "\n",
    "print(model3.summary())"
   ]
  },
  {
   "cell_type": "code",
   "execution_count": 78,
   "metadata": {
    "colab": {
     "base_uri": "https://localhost:8080/",
     "height": 1000
    },
    "colab_type": "code",
    "id": "bYKObOwJof64",
    "outputId": "5963216b-3be5-4988-824b-64fe57dd24ee"
   },
   "outputs": [
    {
     "name": "stdout",
     "output_type": "stream",
     "text": [
      "Train on 87398 samples, validate on 10925 samples\n",
      "Epoch 1/100\n",
      "87398/87398 [==============================] - 155s 2ms/step - loss: 1.2809 - auc: 0.5794 - val_loss: 0.8360 - val_auc: 0.6637\n",
      "\n",
      "Epoch 00001: val_auc improved from -inf to 0.66366, saving model to Model_3.h5\n",
      "Epoch 2/100\n",
      "87398/87398 [==============================] - 148s 2ms/step - loss: 0.6685 - auc: 0.6888 - val_loss: 0.6385 - val_auc: 0.6957\n",
      "\n",
      "Epoch 00002: val_auc improved from 0.66366 to 0.69574, saving model to Model_3.h5\n",
      "Epoch 3/100\n",
      "87398/87398 [==============================] - 148s 2ms/step - loss: 0.5522 - auc: 0.7133 - val_loss: 0.5306 - val_auc: 0.7266\n",
      "\n",
      "Epoch 00003: val_auc improved from 0.69574 to 0.72662, saving model to Model_3.h5\n",
      "Epoch 4/100\n",
      "87398/87398 [==============================] - 149s 2ms/step - loss: 0.4966 - auc: 0.7302 - val_loss: 0.4891 - val_auc: 0.7356\n",
      "\n",
      "Epoch 00004: val_auc improved from 0.72662 to 0.73555, saving model to Model_3.h5\n",
      "Epoch 5/100\n",
      "87398/87398 [==============================] - 148s 2ms/step - loss: 0.4668 - auc: 0.7366 - val_loss: 0.4759 - val_auc: 0.7314\n",
      "\n",
      "Epoch 00005: val_auc did not improve from 0.73555\n",
      "Epoch 6/100\n",
      "87398/87398 [==============================] - 148s 2ms/step - loss: 0.4485 - auc: 0.7413 - val_loss: 0.4448 - val_auc: 0.7385\n",
      "\n",
      "Epoch 00006: val_auc improved from 0.73555 to 0.73846, saving model to Model_3.h5\n",
      "Epoch 7/100\n",
      "87398/87398 [==============================] - 148s 2ms/step - loss: 0.4383 - auc: 0.7466 - val_loss: 0.4448 - val_auc: 0.7264\n",
      "\n",
      "Epoch 00007: val_auc did not improve from 0.73846\n",
      "Epoch 8/100\n",
      "87398/87398 [==============================] - 148s 2ms/step - loss: 0.4286 - auc: 0.7502 - val_loss: 0.4288 - val_auc: 0.7454\n",
      "\n",
      "Epoch 00008: val_auc improved from 0.73846 to 0.74541, saving model to Model_3.h5\n",
      "Epoch 9/100\n",
      "87398/87398 [==============================] - 150s 2ms/step - loss: 0.4220 - auc: 0.7519 - val_loss: 0.4217 - val_auc: 0.7509\n",
      "\n",
      "Epoch 00009: val_auc improved from 0.74541 to 0.75093, saving model to Model_3.h5\n",
      "Epoch 10/100\n",
      "87398/87398 [==============================] - 148s 2ms/step - loss: 0.4177 - auc: 0.7537 - val_loss: 0.4304 - val_auc: 0.7408\n",
      "\n",
      "Epoch 00010: val_auc did not improve from 0.75093\n",
      "Epoch 11/100\n",
      "87398/87398 [==============================] - 149s 2ms/step - loss: 0.4132 - auc: 0.7559 - val_loss: 0.4380 - val_auc: 0.7475\n",
      "\n",
      "Epoch 00011: val_auc did not improve from 0.75093\n",
      "Epoch 12/100\n",
      "87398/87398 [==============================] - 148s 2ms/step - loss: 0.4129 - auc: 0.7549 - val_loss: 0.4226 - val_auc: 0.7460\n",
      "\n",
      "Epoch 00012: val_auc did not improve from 0.75093\n",
      "Epoch 13/100\n",
      "87398/87398 [==============================] - 149s 2ms/step - loss: 0.4092 - auc: 0.7584 - val_loss: 0.6287 - val_auc: 0.7507\n",
      "\n",
      "Epoch 00013: val_auc did not improve from 0.75093\n",
      "Epoch 14/100\n",
      "87398/87398 [==============================] - 149s 2ms/step - loss: 0.4071 - auc: 0.7571 - val_loss: 0.4548 - val_auc: 0.7527\n",
      "\n",
      "Epoch 00014: val_auc improved from 0.75093 to 0.75268, saving model to Model_3.h5\n",
      "Epoch 15/100\n",
      "87398/87398 [==============================] - 149s 2ms/step - loss: 0.4074 - auc: 0.7575 - val_loss: 0.4152 - val_auc: 0.7373\n",
      "\n",
      "Epoch 00015: val_auc did not improve from 0.75268\n",
      "Epoch 16/100\n",
      "87398/87398 [==============================] - 150s 2ms/step - loss: 0.4049 - auc: 0.7602 - val_loss: 0.4105 - val_auc: 0.7459\n",
      "\n",
      "Epoch 00016: val_auc did not improve from 0.75268\n",
      "Epoch 17/100\n",
      "87398/87398 [==============================] - 148s 2ms/step - loss: 0.4020 - auc: 0.7610 - val_loss: 0.4204 - val_auc: 0.7366\n",
      "\n",
      "Epoch 00017: val_auc did not improve from 0.75268\n",
      "Epoch 18/100\n",
      "87398/87398 [==============================] - 149s 2ms/step - loss: 0.4019 - auc: 0.7601 - val_loss: 0.5068 - val_auc: 0.7446\n",
      "\n",
      "Epoch 00018: val_auc did not improve from 0.75268\n",
      "Epoch 19/100\n",
      "87398/87398 [==============================] - 149s 2ms/step - loss: 0.4033 - auc: 0.7611 - val_loss: 0.4088 - val_auc: 0.7454\n",
      "\n",
      "Epoch 00019: val_auc did not improve from 0.75268\n",
      "Epoch 20/100\n",
      "87398/87398 [==============================] - 148s 2ms/step - loss: 0.4026 - auc: 0.7625 - val_loss: 0.5226 - val_auc: 0.7409\n",
      "\n",
      "Epoch 00020: val_auc did not improve from 0.75268\n",
      "Epoch 21/100\n",
      "87398/87398 [==============================] - 148s 2ms/step - loss: 0.4010 - auc: 0.7621 - val_loss: 0.4772 - val_auc: 0.7490\n",
      "\n",
      "Epoch 00021: val_auc did not improve from 0.75268\n",
      "Epoch 22/100\n",
      "87398/87398 [==============================] - 148s 2ms/step - loss: 0.3999 - auc: 0.7633 - val_loss: 0.4570 - val_auc: 0.7437\n",
      "\n",
      "Epoch 00022: val_auc did not improve from 0.75268\n",
      "Epoch 23/100\n",
      "87398/87398 [==============================] - 148s 2ms/step - loss: 0.4002 - auc: 0.7656 - val_loss: 0.5291 - val_auc: 0.7514\n",
      "\n",
      "Epoch 00023: val_auc did not improve from 0.75268\n",
      "Epoch 24/100\n",
      "87398/87398 [==============================] - 148s 2ms/step - loss: 0.3994 - auc: 0.7651 - val_loss: 0.4885 - val_auc: 0.7037\n",
      "\n",
      "Epoch 00024: val_auc did not improve from 0.75268\n",
      "Epoch 25/100\n",
      "87398/87398 [==============================] - 149s 2ms/step - loss: 0.4004 - auc: 0.7650 - val_loss: 0.4241 - val_auc: 0.7476\n",
      "\n",
      "Epoch 00025: val_auc did not improve from 0.75268\n",
      "Epoch 26/100\n",
      "87398/87398 [==============================] - 149s 2ms/step - loss: 0.4002 - auc: 0.7664 - val_loss: 0.4093 - val_auc: 0.7516\n",
      "\n",
      "Epoch 00026: val_auc did not improve from 0.75268\n",
      "Epoch 27/100\n",
      "87398/87398 [==============================] - 148s 2ms/step - loss: 0.4004 - auc: 0.7648 - val_loss: 0.4093 - val_auc: 0.7480\n",
      "\n",
      "Epoch 00027: val_auc did not improve from 0.75268\n",
      "Epoch 28/100\n",
      "87398/87398 [==============================] - 148s 2ms/step - loss: 0.4006 - auc: 0.7645 - val_loss: 0.4082 - val_auc: 0.7344\n",
      "\n",
      "Epoch 00028: val_auc did not improve from 0.75268\n",
      "Epoch 29/100\n",
      "87398/87398 [==============================] - 148s 2ms/step - loss: 0.4008 - auc: 0.7653 - val_loss: 0.4332 - val_auc: 0.7366\n",
      "\n",
      "Epoch 00029: val_auc did not improve from 0.75268\n",
      "Epoch 30/100\n",
      "87398/87398 [==============================] - 148s 2ms/step - loss: 0.4007 - auc: 0.7673 - val_loss: 0.5391 - val_auc: 0.6480\n",
      "\n",
      "Epoch 00030: val_auc did not improve from 0.75268\n",
      "Epoch 31/100\n",
      "87398/87398 [==============================] - 148s 2ms/step - loss: 0.3988 - auc: 0.7677 - val_loss: 0.8557 - val_auc: 0.7499\n",
      "\n",
      "Epoch 00031: val_auc did not improve from 0.75268\n",
      "Epoch 32/100\n",
      "87398/87398 [==============================] - 148s 2ms/step - loss: 0.4016 - auc: 0.7670 - val_loss: 0.6018 - val_auc: 0.7509\n",
      "\n",
      "Epoch 00032: val_auc did not improve from 0.75268\n",
      "Epoch 33/100\n",
      "87398/87398 [==============================] - 148s 2ms/step - loss: 0.4008 - auc: 0.7669 - val_loss: 0.4102 - val_auc: 0.7454\n",
      "\n",
      "Epoch 00033: val_auc did not improve from 0.75268\n",
      "Epoch 34/100\n",
      "87398/87398 [==============================] - 148s 2ms/step - loss: 0.4008 - auc: 0.7681 - val_loss: 0.4185 - val_auc: 0.7500\n",
      "\n",
      "Epoch 00034: val_auc did not improve from 0.75268\n",
      "Epoch 00034: early stopping\n"
     ]
    }
   ],
   "source": [
    "es = EarlyStopping(monitor = 'val_loss', mode = 'min', min_delta = 0.001, patience = 15, verbose = 1)\n",
    "mc = ModelCheckpoint(\"Model_3.h5\", monitor = \"val_auc\", mode = 'max', save_best_only = True, verbose = 1)\n",
    "\n",
    "model3.compile(optimizer = 'adam', loss = 'binary_crossentropy', metrics = [auc])\n",
    "\n",
    "history = model3.fit([encoded_essay_train, non_text_train], y_train,\n",
    "                    validation_data = ([encoded_essay_cv, non_text_cv], y_cv),\n",
    "                    epochs = 100, batch_size = 1024, callbacks = [es, mc], verbose = 1)\n",
    "del model3"
   ]
  },
  {
   "cell_type": "code",
   "execution_count": 79,
   "metadata": {
    "colab": {
     "base_uri": "https://localhost:8080/",
     "height": 408
    },
    "colab_type": "code",
    "id": "lUzp7qWAsjia",
    "outputId": "8da6c4dc-2597-458d-c4bc-9f7740e8718b"
   },
   "outputs": [
    {
     "data": {
      "image/png": "[encoded data removed]",
      "text/plain": [
       "<Figure size 1368x432 with 2 Axes>"
      ]
     },
     "metadata": {
      "tags": []
     },
     "output_type": "display_data"
    }
   ],
   "source": [
    "plot_history(history)"
   ]
  },
  {
   "cell_type": "code",
   "execution_count": 80,
   "metadata": {
    "colab": {
     "base_uri": "https://localhost:8080/",
     "height": 34
    },
    "colab_type": "code",
    "id": "UlqTNm41OuS1",
    "outputId": "913bdee1-bfb7-4257-eed8-2f4855528dc2"
   },
   "outputs": [
    {
     "name": "stdout",
     "output_type": "stream",
     "text": [
      "Drive already mounted at /content/drive; to attempt to forcibly remount, call drive.mount(\"/content/drive\", force_remount=True).\n"
     ]
    }
   ],
   "source": [
    "from google.colab import drive\n",
    "drive.mount('/content/drive')"
   ]
  },
  {
   "cell_type": "code",
   "execution_count": 83,
   "metadata": {
    "colab": {
     "base_uri": "https://localhost:8080/",
     "height": 187
    },
    "colab_type": "code",
    "id": "7Civj1y6bg5z",
    "outputId": "c80b918f-c12b-4b5a-ae0c-f084f0c9e7d2"
   },
   "outputs": [
    {
     "name": "stdout",
     "output_type": "stream",
     "text": [
      "\n",
      "Loadingg the model..\n",
      "Evaluating model...\n",
      "For train data...\n",
      "87398/87398 [==============================] - 72s 824us/step\n",
      "For test data...\n",
      "10925/10925 [==============================] - 9s 819us/step\n",
      "\n",
      "For training data: Loss = 0.4448 and AUC = 0.7748\n",
      "For test data: Loss = 0.4268 and AUC = 0.7496\n"
     ]
    }
   ],
   "source": [
    "# custom metric error during loading the model\n",
    "print(\"\\nLoadingg the model..\")\n",
    "\n",
    "if os.path.isfile(d+\"Donor-Choose/Model_3.h5\"):\n",
    "    model3 = load_model(d+\"Donor-Choose/Model_3.h5\", custom_objects = {'auc': auc})\n",
    "else:\n",
    "    #move the saved model to dirve\n",
    "    !cp \"/content/Model_3.h5\" \"/content/drive/My Drive/Colab Notebooks/Dataset/Google_Word2Vec/Donor-Choose\"\n",
    "    model3 = load_model(\"Model_3.h5\", custom_objects = {\"auc\":auc})\n",
    "    \n",
    "print(\"Evaluating model...\")\n",
    "print(\"For train data...\")\n",
    "score1 = model3.evaluate([encoded_essay_train, non_text_train], y_train, batch_size = 512)\n",
    "\n",
    "print(\"For test data...\")\n",
    "score2 = model3.evaluate([encoded_essay_test, non_text_test], y_test, batch_size = 512)\n",
    "\n",
    "print(\"\\nFor training data: Loss = {:.4} and AUC = {:.4}\\nFor test data: Loss = {:.4} and AUC = {:.4}\"\n",
    "      .format(score1[0], score1[1], score2[0], score2[1]))\n",
    "table.add_row([\"Model 3\", round(score1[0], 4), round(score1[1], 4), round(score2[0], 4), round(score2[1], 4)])"
   ]
  },
  {
   "cell_type": "markdown",
   "metadata": {
    "colab_type": "text",
    "id": "z1dpvQv0Oq55"
   },
   "source": [
    "# 4. Conclusion"
   ]
  },
  {
   "cell_type": "code",
   "execution_count": 86,
   "metadata": {
    "colab": {
     "base_uri": "https://localhost:8080/",
     "height": 136
    },
    "colab_type": "code",
    "id": "-wFHGj4l8wvn",
    "outputId": "92b7ffb0-70b5-4098-da81-2f53a4a0fc5a"
   },
   "outputs": [
    {
     "name": "stdout",
     "output_type": "stream",
     "text": [
      "+---------+------------+-----------+-----------+----------+\n",
      "|  Model  | Train Loss | Train AUC | Test Loss | Test AUC |\n",
      "+---------+------------+-----------+-----------+----------+\n",
      "| Model 1 |   0.4431   |   0.7833  |   0.4835  |  0.7536  |\n",
      "| Model 2 |   0.4178   |   0.7868  |   0.4641  |  0.7377  |\n",
      "| Model 3 |   0.4448   |   0.7748  |   0.4268  |  0.7496  |\n",
      "+---------+------------+-----------+-----------+----------+\n"
     ]
    }
   ],
   "source": [
    "print(table)"
   ]
  },
  {
   "cell_type": "code",
   "execution_count": 0,
   "metadata": {
    "colab": {},
    "colab_type": "code",
    "id": "VwHlP5cx6iYg"
   },
   "outputs": [],
   "source": []
  }
 ],
 "metadata": {
  "accelerator": "GPU",
  "colab": {
   "collapsed_sections": [
    "sJ6b0bCeWjcM",
    "L_I_q_5mWRcA",
    "TsWYx_fHacCC",
    "vf9sBbRJaf09",
    "9QGZgSl4ql8V",
    "HKH6dIqBT0gJ",
    "IGzuZedMhcGV",
    "PGC0w3YakjmB",
    "DO_epVX2lE9c"
   ],
   "name": "Donor_Choose_with_LSTM.ipynb",
   "provenance": []
  },
  "kernelspec": {
   "display_name": "Python 3",
   "language": "python",
   "name": "python3"
  },
  "language_info": {
   "codemirror_mode": {
    "name": "ipython",
    "version": 3
   },
   "file_extension": ".py",
   "mimetype": "text/x-python",
   "name": "python",
   "nbconvert_exporter": "python",
   "pygments_lexer": "ipython3",
   "version": "3.6.8"
  }
 },
 "nbformat": 4,
 "nbformat_minor": 1
}
